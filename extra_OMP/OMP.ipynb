{
 "metadata": {
  "name": ""
 },
 "nbformat": 3,
 "nbformat_minor": 0,
 "worksheets": [
  {
   "cells": [
    {
     "cell_type": "code",
     "collapsed": false,
     "input": [
      "import pandas\n",
      "import numpy as np\n",
      "import numpy.ma as ma\n",
      "import matplotlib.pyplot as plt\n",
      "\n",
      "from datetime import datetime\n",
      "from oceans.colormaps import cm\n",
      "from pandas import DataFrame, read_csv\n",
      "from IPython.display import Image, SVG\n",
      "from mpl_toolkits.basemap import Basemap\n",
      "%config InlineBackend.figure_format='retina'"
     ],
     "language": "python",
     "metadata": {
      "slideshow": {
       "slide_type": "skip"
      }
     },
     "outputs": []
    },
    {
     "cell_type": "markdown",
     "metadata": {
      "slideshow": {
       "slide_type": "slide"
      }
     },
     "source": [
      "## An\u00e1lise de dados Multi-param\u00e9trica\n",
      "\n",
      "04 de Novembro de 2013\n",
      "\n",
      "Prof. Filipe  Fernandes"
     ]
    },
    {
     "cell_type": "markdown",
     "metadata": {
      "slideshow": {
       "slide_type": "slide"
      }
     },
     "source": [
      "### Podemos classificar a maioria das propriedades oce\u00e2nicas em tra\u00e7adores do tipo:"
     ]
    },
    {
     "cell_type": "markdown",
     "metadata": {
      "slideshow": {
       "slide_type": "fragment"
      }
     },
     "source": [
      "* conservativos e;"
     ]
    },
    {
     "cell_type": "markdown",
     "metadata": {
      "slideshow": {
       "slide_type": "fragment"
      }
     },
     "source": [
      "* n\u00e3o-conservativos."
     ]
    },
    {
     "cell_type": "markdown",
     "metadata": {
      "slideshow": {
       "slide_type": "slide"
      }
     },
     "source": [
      "###An\u00e1lise de Massas de \u00c1gua Cl\u00e1ssica"
     ]
    },
    {
     "cell_type": "markdown",
     "metadata": {
      "slideshow": {
       "slide_type": "fragment"
      }
     },
     "source": [
      "* Utilizamos apenas tra\u00e7adores conservativos;"
     ]
    },
    {
     "cell_type": "markdown",
     "metadata": {
      "slideshow": {
       "slide_type": "fragment"
      }
     },
     "source": [
      "* \u00c1guas tipos s\u00e3o caracterizadas por pares $\\theta$-S;"
     ]
    },
    {
     "cell_type": "markdown",
     "metadata": {
      "slideshow": {
       "slide_type": "fragment"
      }
     },
     "source": [
      "* Curva de mistura de duas ou mais \u00e1guas tipos formando o diagrama $\\theta$-S."
     ]
    },
    {
     "cell_type": "code",
     "collapsed": false,
     "input": [
      "#Mistura simples de duas \u00e1guas tipo.\n",
      "Image('./figures/massa_dagua_mistura_01.png', retina=True)"
     ],
     "language": "python",
     "metadata": {
      "slideshow": {
       "slide_type": "slide"
      }
     },
     "outputs": []
    },
    {
     "cell_type": "code",
     "collapsed": false,
     "input": [
      "# Mistura de tr\u00eas \u00e1guas tipo.\n",
      "Image('./figures/massa_dagua_mistura_02.png', retina=True)"
     ],
     "language": "python",
     "metadata": {
      "slideshow": {
       "slide_type": "slide"
      }
     },
     "outputs": []
    },
    {
     "cell_type": "code",
     "collapsed": false,
     "input": [
      "# Detalhe da forma\u00e7\u00e3o de um diagrama TS com uma mistura de tr\u00eas \u00e1guas tipo.\n",
      "Image('./figures/massa_dagua_mistura_03.png', retina=True)"
     ],
     "language": "python",
     "metadata": {
      "slideshow": {
       "slide_type": "slide"
      }
     },
     "outputs": []
    },
    {
     "cell_type": "markdown",
     "metadata": {
      "slideshow": {
       "slide_type": "notes"
      }
     },
     "source": [
      "* Comentar sobre os \"end-points\" estarem fora da curva."
     ]
    },
    {
     "cell_type": "markdown",
     "metadata": {
      "slideshow": {
       "slide_type": "slide"
      }
     },
     "source": [
      "### Problemas com a an\u00e1lise cl\u00e1ssica:"
     ]
    },
    {
     "cell_type": "markdown",
     "metadata": {
      "slideshow": {
       "slide_type": "fragment"
      }
     },
     "source": [
      "* Depende apenas de T e S, logo \u00e9 incapaz de descrever massas d'\u00e1gua com caracter\u00edsticas TS pr\u00f3ximas por\u00e9m de origems diferentes (Ex.: A mistura entre duas massas d'\u00e1gua gera uma terceira que se confunde facilmente com as massas que a originaram)."
     ]
    },
    {
     "cell_type": "markdown",
     "metadata": {
      "slideshow": {
       "slide_type": "fragment"
      }
     },
     "source": [
      "* Podemos calcular as porcentagens de mistura apenas se conhecermos as \u00e1guas tipo.  Mas em geral a mistrua ser\u00e1 subestimada por n\u00e3o contabilizarar massas d'\u00e1gua que n\u00e3o podemos descrever com T e S apenas."
     ]
    },
    {
     "cell_type": "markdown",
     "metadata": {
      "slideshow": {
       "slide_type": "fragment"
      }
     },
     "source": [
      "* N\u00e3o traz informa\u00e7\u00e3o sobre a idade da massa d'\u00e1gua."
     ]
    },
    {
     "cell_type": "code",
     "collapsed": false,
     "input": [
      "%%latex\n",
      "Modelo da An\u00e1lise Cl\u00e1ssica:\n",
      "\\begin{align*}\n",
      "x_1 T_1 + x_2 T_2 + x_3 T_3 = T \\\\\n",
      "x_1 S_1 + x_2 S_2 + x_3 S_3 = S \\\\\n",
      "x_1 + x_2 + x_3 = 1 \\\\\n",
      "\\text{ou} \\\\\n",
      "\\mathbf{Ax} = \\mathbf{b}\n",
      "\\end{align*}"
     ],
     "language": "python",
     "metadata": {
      "slideshow": {
       "slide_type": "slide"
      }
     },
     "outputs": []
    },
    {
     "cell_type": "markdown",
     "metadata": {
      "slideshow": {
       "slide_type": "slide"
      }
     },
     "source": [
      "### An\u00e1lise de dados Multiparam\u00e9trica"
     ]
    },
    {
     "cell_type": "markdown",
     "metadata": {
      "slideshow": {
       "slide_type": "fragment"
      }
     },
     "source": [
      "* Atualmente, a an\u00e1lise de massas de \u00e1gua utiliza de dados que n\u00e3o eram dispon\u00edveis a 60 anos atr\u00e1s, quando Sverdrup et al. (1942) formalizaram o estudo deste tema."
     ]
    },
    {
     "cell_type": "markdown",
     "metadata": {
      "slideshow": {
       "slide_type": "fragment"
      }
     },
     "source": [
      "* A combina\u00e7\u00e3o entre conjuntos de dados hidrogr\u00e1ficos, que incluem os par\u00e2metros n\u00e3o-conservativos da \u00e1gua do mar e os dados hidrogr\u00e1ficos cl\u00e1ssicos (T e S), tornou poss\u00edvel o desenvolvimento de m\u00e9todos inversos capazes de extrair um maior n\u00famero informa\u00e7\u00f5es sobre as massas de \u00e1gua."
     ]
    },
    {
     "cell_type": "markdown",
     "metadata": {
      "slideshow": {
       "slide_type": "fragment"
      }
     },
     "source": [
      "* Inclui-se na categoria destes novos m\u00e9todos, a OMPA (Sigla em Ingl\u00eas para \"An\u00e1lise Multiparam\u00e9trica \u00d3tima\"), que possui uma abordagem efetivamente quantitativa."
     ]
    },
    {
     "cell_type": "markdown",
     "metadata": {
      "slideshow": {
       "slide_type": "slide"
      }
     },
     "source": [
      "### Mas como incluir elementos n\u00e3o conservativos nas equa\u00e7\u00f5es acima?"
     ]
    },
    {
     "cell_type": "markdown",
     "metadata": {
      "slideshow": {
       "slide_type": "fragment"
      }
     },
     "source": [
      "* Nutrientes s\u00e3o introduzidos em sub-superf\u00edcie por processos de oxida\u00e7\u00e3o de mat\u00e9ria org\u00e2nica;"
     ]
    },
    {
     "cell_type": "markdown",
     "metadata": {
      "slideshow": {
       "slide_type": "fragment"
      }
     },
     "source": [
      "* Isso ocorre em propor\u00e7\u00f5es estequiom\u00e9tricas com o comsumo de oxig\u00eanio;"
     ]
    },
    {
     "cell_type": "markdown",
     "metadata": {
      "slideshow": {
       "slide_type": "fragment"
      }
     },
     "source": [
      "* Essa propor\u00e7\u00e3o \u00e9 chamada de Taxa de [Redfield](http://en.wikipedia.org/wiki/Redfield_ratio)."
     ]
    },
    {
     "cell_type": "code",
     "collapsed": false,
     "input": [
      "%%latex\n",
      "\\begin{align*}\n",
      "NO &= 9\\text{NO}_3 + \\text{O}_2 \\\\\n",
      "PO &= 135\\text{PO}_4 + \\text{O}_2\n",
      "\\end{align*}"
     ],
     "language": "python",
     "metadata": {
      "slideshow": {
       "slide_type": "fragment"
      }
     },
     "outputs": []
    },
    {
     "cell_type": "markdown",
     "metadata": {
      "slideshow": {
       "slide_type": "fragment"
      }
     },
     "source": [
      "* Adicionalmente, Silicato pode ser considerado quase conservativo no Atl\u00e2ntico.  Elevando de 2 para 5 o n\u00famero de par\u00e2metros que termos para descrever massas de \u00e1gua."
     ]
    },
    {
     "cell_type": "markdown",
     "metadata": {
      "slideshow": {
       "slide_type": "slide"
      }
     },
     "source": [
      "Infelizmente n\u00e3o podemos aplicar a equa\u00e7\u00e3o acima diretamente.  Isso porque:\n",
      "\n",
      "* Existem erros nas amostras;\n",
      "* \u00c1guas tipos desconhecidas,;\n",
      "* Fluta\u00e7\u00f5es nas regi\u00f5es fonte e etc\n",
      "\n",
      "Isso nos leva a um sistema que raramente fecha em 1 como esperado.\n",
      "\n",
      "Por isso temos que utilizar uma solu\u00e7\u00e3o por ajustes de m\u00ednimos quadrados do tipo:\n",
      "\n",
      "$$D^2 = (\\mathbf{Ax-b})'\\mathbf{W}'\\mathbf{W}(\\mathbf{Ax-b})$$"
     ]
    },
    {
     "cell_type": "markdown",
     "metadata": {
      "slideshow": {
       "slide_type": "slide"
      }
     },
     "source": [
      "### Os passos para se aplicar uma **OMPA**?\n",
      "\n",
      "1. Identifique um conjunto de $M-1$ tra\u00e7adores conservativos;"
     ]
    },
    {
     "cell_type": "markdown",
     "metadata": {
      "slideshow": {
       "slide_type": "fragment"
      }
     },
     "source": [
      "2. Defina as caracter\u00edsticas (ou seja os valores dos M-1 tra\u00e7adores) para as suas \u00e1guas tipo;"
     ]
    },
    {
     "cell_type": "markdown",
     "metadata": {
      "slideshow": {
       "slide_type": "fragment"
      }
     },
     "source": [
      "3. Desenhe a sua matriz e os vetores de dados ($\\mathbf{Ax-b}$);"
     ]
    },
    {
     "cell_type": "markdown",
     "metadata": {
      "slideshow": {
       "slide_type": "fragment"
      }
     },
     "source": [
      "4. Padronize e crie pesos para a sua matriz $\\mathbf{A}$ e para o conjunto de dados."
     ]
    },
    {
     "cell_type": "markdown",
     "metadata": {
      "slideshow": {
       "slide_type": "fragment"
      }
     },
     "source": [
      "5. Busque a solu\u00e7\u00e3o inversa para $x$ para o seu conjunto de dados por M\u00ednimos Quadrados do modelo $\\mathbf{\\tilde{G}x-\\tilde{d}}$ sujeito a uma constri\u00e7\u00e3o positiva!"
     ]
    },
    {
     "cell_type": "markdown",
     "metadata": {
      "slideshow": {
       "slide_type": "fragment"
      }
     },
     "source": [
      "* Os passos Oceanogr\u00e1ficos mais iportantes est\u00e3o nos passas 1, 2 e 4."
     ]
    },
    {
     "cell_type": "markdown",
     "metadata": {
      "slideshow": {
       "slide_type": "fragment"
      }
     },
     "source": [
      "* \u00c9 essencial checar a distribui\u00e7\u00e3o espacial dos res\u00edduos do modelo de M\u00ednimo quadrados ($\\mathbf{\\tilde{G}x-\\tilde{d}}$)."
     ]
    },
    {
     "cell_type": "markdown",
     "metadata": {
      "slideshow": {
       "slide_type": "slide"
      }
     },
     "source": [
      "### Exemplo de OMPA"
     ]
    },
    {
     "cell_type": "code",
     "collapsed": false,
     "input": [
      "# Load bottle data: http://www.nodc.noaa.gov/woce/woce_v3/wocedata_1/whp/\n",
      "# These files are mMissing C14 data.\n",
      "\n",
      "path = './WOCE/BOTTLE'\n",
      "kw = dict(skiprows=5, skipfooter=1, skipinitialspace=True, header=0)\n",
      "\n",
      "# http://www.nodc.noaa.gov/woce/woce_v3/wocedata_1/whp/data/onetime/atlantic/a16/a16s/index.htm\n",
      "A16S = read_csv('%s/a16s_hy1.csv' % path, **kw)\n",
      "A16S_units = A16S.iloc[0]\n",
      "A16S = A16S.iloc[1:]\n",
      "\n",
      "# http://www.nodc.noaa.gov/woce/woce_v3/wocedata_1/whp/data/onetime/atlantic/a16/a16c/index.htm\n",
      "A16C = read_csv('%s/a16c_hy1.csv'  % path, **kw)\n",
      "A16C_units = A16C.iloc[0]\n",
      "A16C = A16C.iloc[1:]\n",
      "\n",
      "# http://www.nodc.noaa.gov/woce/woce_v3/wocedata_1/whp/data/onetime/atlantic/a16/a16n/index.htm\n",
      "A16N = read_csv('%s/a16n_hy1.csv' % path, **kw)\n",
      "A16N_units = A16N.iloc[0]\n",
      "A16N = A16N.iloc[1:]\n",
      "\n",
      "# Merge all 3 section into one.\n",
      "A16 = A16S.merge(A16C, how='outer').merge(A16N, how='outer')"
     ],
     "language": "python",
     "metadata": {
      "slideshow": {
       "slide_type": "subslide"
      }
     },
     "outputs": []
    },
    {
     "cell_type": "code",
     "collapsed": false,
     "input": [
      "# Select a continous track.\n",
      "maskN = np.logical_and(A16['STNNBR'] >= 1, A16['STNNBR'] <= 124)\n",
      "maskS = np.logical_and(A16['STNNBR'] >= 237, A16['STNNBR'] <= 278)\n",
      "maskC = np.logical_and(A16['STNNBR'] >= 314, A16['STNNBR'] <= 373)\n",
      "mask = maskN | maskS | maskC\n",
      "A16 = A16[mask]\n",
      "\n",
      "# Use time as index.\n",
      "dtime = [datetime.strptime('%s %03d' % (int(date), int(time)), '%Y%m%d %H%M') for\n",
      "         date, time in zip(A16['DATE'], A16['TIME'])]\n",
      "\n",
      "# Drop unused and non-numeric columns.\n",
      "A16.drop(['DATE','TIME', 'EXPOCODE', 'SECT_ID'], axis=1, inplace=True)\n",
      "A16.index = dtime\n",
      "\n",
      "# Force all values to be numeric.\n",
      "A16 = A16.convert_objects(convert_numeric=True)"
     ],
     "language": "python",
     "metadata": {
      "slideshow": {
       "slide_type": "subslide"
      }
     },
     "outputs": []
    },
    {
     "cell_type": "code",
     "collapsed": false,
     "input": [
      "# Select good data using flags.\n",
      "# Multiple NA is used. -999.00, -999.9 and etc,\n",
      "# so I'm getting all data that is marked as less than -999.\n",
      "A16[A16 <= -999] = np.NaN\n",
      "\n",
      "def apply_flag(flag):\n",
      "    prop = flag.split('_')[0]\n",
      "    mask = A16[flag] == 2.\n",
      "    A16[prop][mask] = np.NaN\n",
      "\n",
      "flags = ['BTLNBR_FLAG_W', 'CTDSAL_FLAG_W', 'SALNTY_FLAG_W', 'SILCAT_FLAG_W',\n",
      "         'OXYGEN_FLAG_W', 'NITRAT_FLAG_W', 'NITRIT_FLAG_W', 'PHSPHT_FLAG_W',\n",
      "         'CFC-11_FLAG_W', 'CFC-12_FLAG_W', 'TCARBN_FLAG_W', 'PCO2_FLAG_W']\n",
      "\n",
      "for flag in flags:\n",
      "    # Not sure if \"exchange\" format already applied bad flag.\n",
      "    # So I'm just dropping that column.\n",
      "    #apply_flag(flag)\n",
      "    A16.drop([flag], axis=1, inplace=True)"
     ],
     "language": "python",
     "metadata": {
      "slideshow": {
       "slide_type": "subslide"
      }
     },
     "outputs": []
    },
    {
     "cell_type": "code",
     "collapsed": false,
     "input": [
      "# Compute AOU.\n",
      "import seawater as sw\n",
      "from oceans.sw_extras import o2sat\n",
      "Osat = o2sat(A16['CTDSAL'].values, A16['THETA'].values)\n",
      "\n",
      "A16['AOU'] = Osat - A16['OXYGEN']\n",
      "\n",
      "# Normalize Total DIC.\n",
      "A16['TCARBN_NORM'] = A16['TCARBN'] * (35 / A16['CTDSAL'])\n",
      "\n",
      "pt = sw.ptmp(A16['CTDSAL'], A16['CTDTMP'], A16['CTDPRS'], pr=0)\n",
      "A16['PDEN'] = sw.pden(A16['CTDSAL'], A16['CTDTMP'], A16['CTDPRS'], pr=0) - 1000\n",
      "\n",
      "pandas.set_option('display.max_columns', 40)\n",
      "A16.head(5)"
     ],
     "language": "python",
     "metadata": {
      "slideshow": {
       "slide_type": "subslide"
      }
     },
     "outputs": []
    },
    {
     "cell_type": "code",
     "collapsed": false,
     "input": [
      "import os\n",
      "from ctd import CTD\n",
      "from glob import glob\n",
      "from pandas import Panel\n",
      "from collections import OrderedDict\n",
      "\n",
      "def get_pattern(fname, pattern):\n",
      "    with open(fname) as f:\n",
      "        for line in f.readlines():\n",
      "            if line.startswith(pattern):\n",
      "                value = float(line.split('=')[1])\n",
      "                continue\n",
      "        return value\n",
      "    \n",
      "    \n",
      "names = ['CTDPRS', 'CTDTMP', 'CTDSAL', 'CTDOXY']\n",
      "def load_ctd_section(fname):\n",
      "    kw = dict(skiprows=20, skipfooter=1, names=names, usecols=(0, 2, 4, 6), index_col='CTDPRS')\n",
      "    df = read_csv(fname, **kw)\n",
      "    return CTD(df)\n",
      "\n",
      "# Using only contiguous track.\n",
      "maskN = range(1, 124 + 1)\n",
      "maskS = range(237, 278 + 1)\n",
      "maskC = range(314, 373 + 1)\n",
      "mask = maskN + maskS + maskC\n",
      "\n",
      "path = './WOCE/CTD'\n",
      "A16S = sorted(glob('%s/a16s*.csv' % path), reverse=True)\n",
      "A16C = sorted(glob('%s/a16c*.csv' % path), reverse=False)\n",
      "A16N = sorted(glob('%s/a16n*.csv' % path), reverse=True)\n",
      "fnames = A16S + A16C + A16N\n",
      "\n",
      "lon, lat, CTD_A16 = [], [], OrderedDict()\n",
      "for fname in fnames:\n",
      "    # Select a continous track.\n",
      "    STNNBR = int(fname.split('_')[1])\n",
      "    if STNNBR in mask:\n",
      "        name = os.path.basename(fname).split('.')[0]\n",
      "        lon.append(get_pattern(fname, 'LONGITUDE'))\n",
      "        lat.append(get_pattern(fname, 'LATITUDE'))\n",
      "        CTD_A16.update({STNNBR: load_ctd_section(fname)})\n",
      "    \n",
      "CTD_A16 = Panel.fromDict(CTD_A16)\n",
      "\n",
      "\n",
      "CTDTMP = CTD(CTD_A16.minor_xs('CTDTMP'))\n",
      "CTDTMP.lon, CTDTMP.lat = lon, lat\n",
      "\n",
      "CTDSAL = CTD(CTD_A16.minor_xs('CTDSAL'))\n",
      "CTDSAL.lon, CTDSAL.lat = lon, lat\n",
      "\n",
      "\n",
      "from oceans.sw_extras import gamma_GP_from_SP_pt\n",
      "p = CTDSAL.index.values.astype(float)\n",
      "s, t, p, lon, lat = np.broadcast_arrays(CTDSAL.values, CTDTMP.values, p[..., None], lon, lat)\n",
      "pt = sw.ptmp(s, t, p, pr=0)\n",
      "#gamma = gamma_GP_from_SP_pt(s, pt, p, lon, lat)\n",
      "pden = sw.pden(s, t, p, pr=0) - 1000"
     ],
     "language": "python",
     "metadata": {
      "slideshow": {
       "slide_type": "subslide"
      }
     },
     "outputs": []
    },
    {
     "cell_type": "code",
     "collapsed": false,
     "input": [
      "# Get bottles x, y.\n",
      "from pandas import pivot_table\n",
      "\n",
      "LON = pivot_table(A16, values='LONGITUDE', rows=['CTDPRS'], cols=['STNNBR'])\n",
      "LAT = pivot_table(A16, values='LATITUDE', rows=['CTDPRS'], cols=['STNNBR'])\n",
      "\n",
      "# Get just common stations.\n",
      "common = []\n",
      "for stn in CTDSAL.columns:\n",
      "    if stn in LON.columns:\n",
      "        common.append(stn)\n",
      "common = np.array(common, np.float_)\n",
      "LON = LON[common]\n",
      "LAT = LAT[common]\n",
      "\n",
      "DIST = np.r_[0, sw.dist(LAT.mean(), LON.mean())[0].cumsum()]\n",
      "bottles = DataFrame(LON.notnull().values, index=LON.index, columns=DIST)\n",
      "\n",
      "X, Y = np.meshgrid(bottles.columns.values, bottles.index.values)\n",
      "X, Y = X[bottles.values], Y[bottles.values]\n",
      "\n",
      "# Make salinity section.\n",
      "lon_0 = 360 + A16['LONGITUDE'].mean()\n",
      "lat_0 = A16['LATITUDE'].mean()\n",
      "\n",
      "from mpl_toolkits.axes_grid1.inset_locator import inset_axes\n",
      "def make_basemap(projection='ortho', resolution='c', ax=None):\n",
      "    m = Basemap(projection=projection, resolution=resolution,\n",
      "                lon_0=lon_0, lat_0=lat_0, ax=ax)\n",
      "    m.drawcoastlines()\n",
      "    m.fillcontinents(color='0.85')\n",
      "    return fig, m\n",
      "\n",
      "from ctd.plotting import plot_section\n",
      "levels = np.arange(33.8, 37.4, 0.1)\n",
      "fig, ax, cbar = plot_section(CTDSAL, cmap=cm.odv, marker=None,\n",
      "                             levels=levels, figsize=(8, 4))\n",
      "ax.set_ylabel('Depth [m]')\n",
      "ax.set_xlabel('Distance in [km]')\n",
      "\n",
      "axin = inset_axes(ax, width=\"40%\", height=\"40%\", loc=4)\n",
      "fig, m = make_basemap(ax=axin)\n",
      "kw = dict(marker='.', color='#FF9900', linestyle='none')\n",
      "m.plot(*m(A16['LONGITUDE'].values, A16['LATITUDE'].values), **kw)\n",
      "ax.plot(X, Y, 'k.', alpha=0.5, markersize=2)\n",
      "\n",
      "levels = [22.5, 23, 24.5, 25.5, 26.5, 27, 27.5, 27.845, 27.9]\n",
      "levels = [25, 26.5] + [27, 27.5] + [27.7, 27.85]\n",
      "cs = ax.contour(DIST, CTDSAL.index.values.astype(float), ma.masked_invalid(pden), levels=levels, colors='k')\n",
      "_ = ax.clabel(cs, fmt='%2.2f')"
     ],
     "language": "python",
     "metadata": {
      "slideshow": {
       "slide_type": "slide"
      }
     },
     "outputs": []
    },
    {
     "cell_type": "code",
     "collapsed": false,
     "input": [
      "# Se\u00e7\u00e3o de salinidade no Atl\u00e2ntico.\n",
      "Image('./figures/Atlantic_salinity.png', width=2206/4., height=1122/4., retina=False)"
     ],
     "language": "python",
     "metadata": {
      "slideshow": {
       "slide_type": "subslide"
      }
     },
     "outputs": []
    },
    {
     "cell_type": "code",
     "collapsed": false,
     "input": [
      "from oceans.ff_tools import lsqfitgm\n",
      "\n",
      "def plot_gmfit(x, y, ax):\n",
      "    \"\"\"Plots the geometric mean functional regression (neutral regression.)\"\"\"\n",
      "    #y = interp_series(y)\n",
      "    m, b, r, sm, sb = lsqfitgm(x, y)\n",
      "    x = np.array([x.min(), x.max()])\n",
      "    ax.plot(x, m * x + b, 'k-', linewidth=2)\n",
      "    #r = trunc(r, 2)\n",
      "    ax.text(0.75, 0.10, r'$r^2 = %2.2f$' % r, transform=ax.transAxes)\n",
      "    # Plot equation.\n",
      "    if False:\n",
      "        ax.text(0.05, 0.93, r'$y = %2.2fx\\pm%2.2f %+2.2f\\pm%2.2f$' %\n",
      "                (m, sm, b, sb), transform=ax.transAxes)\n",
      "\n",
      "cbarkw = dict(extend='both', orientation='vertical')"
     ],
     "language": "python",
     "metadata": {
      "slideshow": {
       "slide_type": "skip"
      }
     },
     "outputs": []
    },
    {
     "cell_type": "code",
     "collapsed": false,
     "input": [
      "df = A16[['PHSPHT', 'NITRAT', 'OXYGEN']].dropna()\n",
      "sckw = dict(cmap=cm.odv, alpha=0.7, vmax=350, vmin=0)\n",
      "\n",
      "fig, ax = plt.subplots()\n",
      "cs = ax.scatter(df['PHSPHT'], df['NITRAT'], c=df['OXYGEN'], **sckw)\n",
      "fig.colorbar(cs, **cbarkw)\n",
      "ax.set_title(r'Oxygen [$\\mu$mol kg$^{-1}$]')\n",
      "ax.set_xlabel(r'Phosphate [$\\mu$mol kg$^{-1}$]')\n",
      "ax.set_ylabel(r'Nitrate [$\\mu$mol kg$^{-1}$]')\n",
      "ax.axis('tight')\n",
      "\n",
      "plot_gmfit(df['PHSPHT'], df['NITRAT'], ax)"
     ],
     "language": "python",
     "metadata": {
      "slideshow": {
       "slide_type": "slide"
      }
     },
     "outputs": []
    },
    {
     "cell_type": "code",
     "collapsed": false,
     "input": [
      "Image('./figures/nvp_01.png', retina=True)"
     ],
     "language": "python",
     "metadata": {
      "slideshow": {
       "slide_type": "subslide"
      }
     },
     "outputs": []
    },
    {
     "cell_type": "code",
     "collapsed": false,
     "input": [
      "df = A16[['PHSPHT', 'TCARBN_NORM', 'AOU']].dropna()\n",
      "sckw = dict(cmap=cm.odv, alpha=0.7, vmax=300, vmin=-25)\n",
      "\n",
      "fig, ax = plt.subplots()\n",
      "cs = ax.scatter(df['PHSPHT'], df['TCARBN_NORM'], c=df['AOU'], **sckw)\n",
      "fig.colorbar(cs, **cbarkw)\n",
      "ax.grid(True)\n",
      "ax.set_title(r'AOU [$\\mu$mol kg$^{-1}$]')\n",
      "ax.set_xlabel(r'Phosphate [$\\mu$mol kg$^{-1}$]')\n",
      "ax.set_ylabel(r'nTDIC (Sal normalized) [$\\mu$mol kq$^{-1}$]')\n",
      "ax.axis('tight')\n",
      "\n",
      "plot_gmfit(df['PHSPHT'], df['TCARBN_NORM'], ax)"
     ],
     "language": "python",
     "metadata": {
      "slideshow": {
       "slide_type": "slide"
      }
     },
     "outputs": []
    },
    {
     "cell_type": "code",
     "collapsed": false,
     "input": [
      "# Fosfato vs Carbono Org\u00e2nico Dissolvido (oxig\u00eanio em cores).\n",
      "Image('./figures/ntdicvp_01.png', retina=True)"
     ],
     "language": "python",
     "metadata": {
      "slideshow": {
       "slide_type": "subslide"
      }
     },
     "outputs": []
    },
    {
     "cell_type": "code",
     "collapsed": false,
     "input": [
      "df = A16[['PHSPHT', 'AOU']].dropna()\n",
      "\n",
      "fig, ax = plt.subplots()\n",
      "ax.scatter(df['PHSPHT'], df['AOU'], c='k', alpha=0.7)\n",
      "ax.grid(True)\n",
      "ax.set_xlabel(r'Phosphate [$\\mu$mol kg$^{-1}$]')\n",
      "ax.set_ylabel(r'AOU [$\\mu$mol kg$^{-1}$]')\n",
      "ax.axis('tight')\n",
      "\n",
      "plot_gmfit(df['PHSPHT'], df['AOU'], ax)"
     ],
     "language": "python",
     "metadata": {
      "slideshow": {
       "slide_type": "slide"
      }
     },
     "outputs": []
    },
    {
     "cell_type": "code",
     "collapsed": false,
     "input": [
      "Image('./figures/aouvsp.png', retina=True)"
     ],
     "language": "python",
     "metadata": {
      "slideshow": {
       "slide_type": "subslide"
      }
     },
     "outputs": []
    },
    {
     "cell_type": "code",
     "collapsed": false,
     "input": [
      "df = A16[['NITRAT', 'AOU']].dropna()\n",
      "\n",
      "fig, ax = plt.subplots()\n",
      "ax.scatter(df['NITRAT'], df['AOU'], c='k', alpha=0.7)\n",
      "ax.grid(True)\n",
      "ax.set_xlabel(r'Nitrate [$\\mu$mol kg$^{-1}$]')\n",
      "ax.set_ylabel(r'AOU [$\\mu$mol kg$^{-1}$]')\n",
      "ax.axis('tight')\n",
      "\n",
      "plot_gmfit(df['NITRAT'], df['AOU'], ax)"
     ],
     "language": "python",
     "metadata": {
      "slideshow": {
       "slide_type": "slide"
      }
     },
     "outputs": []
    },
    {
     "cell_type": "code",
     "collapsed": false,
     "input": [
      "Image('./figures/aouvn.png', retina=True)"
     ],
     "language": "python",
     "metadata": {
      "slideshow": {
       "slide_type": "subslide"
      }
     },
     "outputs": []
    },
    {
     "cell_type": "code",
     "collapsed": false,
     "input": [
      "df = A16[['TCARBN_NORM', 'AOU']].dropna()\n",
      "\n",
      "fig, ax = plt.subplots()\n",
      "ax.scatter(df['TCARBN_NORM'], df['AOU'], c='k', alpha=0.7)\n",
      "ax.grid(True)\n",
      "ax.set_xlabel(r'nTDIC (Sal normalized) [$\\mu$mol kq$^{-1}$]')\n",
      "ax.set_ylabel(r'AOU [$\\mu$mol kg$^{-1}$]')\n",
      "ax.axis('tight')\n",
      "\n",
      "plot_gmfit(df['TCARBN_NORM'], df['AOU'], ax)"
     ],
     "language": "python",
     "metadata": {
      "slideshow": {
       "slide_type": "slide"
      }
     },
     "outputs": []
    },
    {
     "cell_type": "code",
     "collapsed": false,
     "input": [
      "Image('./figures/auovdic.png', retina=True)"
     ],
     "language": "python",
     "metadata": {
      "slideshow": {
       "slide_type": "subslide"
      }
     },
     "outputs": []
    },
    {
     "cell_type": "markdown",
     "metadata": {
      "slideshow": {
       "slide_type": "slide"
      }
     },
     "source": [
      "* A rela\u00e7\u00e3o estequiom\u00e9trica **C:AOU:N:P** \u00e9 **110.47:66.48:15.3:1**.  Mas apenas Nitrato vs Fosfato e DIC vs Fosfato mostraram uma rela\u00e7\u00e3o linear.\n",
      "\n",
      "* **AOU:P** n\u00e3o mostra a mesma tend\u00eancia linear devido a alta concentra\u00e7\u00e3o de fosfato pr\u00e9-formado na superf\u00edcie.\n",
      "\n",
      "* Nutrientes pr\u00e9-formados = Total de nutrientes - Nutrientes Regenerados\n",
      "\n",
      "* Nutrientes pr\u00e9-formados s\u00e3o caracter\u00edsticos da regi\u00e3o de onde se original, podemos ser usados como tra\u00e7adores de massas d'\u00e1gua!\n",
      "\n",
      "* Como se espera que a concentra\u00e7\u00e3o de nutrientesaumente com o aumento do **AOU** todos os nutrientes que est\u00e3o presentes em uma concentra\u00e7\u00e3o maior que zero em **AOU** zero podem ser chamados de *pr\u00e9-formados*."
     ]
    },
    {
     "cell_type": "markdown",
     "metadata": {
      "slideshow": {
       "slide_type": "subslide"
      }
     },
     "source": [
      "### Utiliza\u00e7\u00e3o Aparente de Oxig\u00eanio (UAO) [Apparent Oxygen Utilisation (AOU)]\n",
      "\n",
      "* \u00c9 a diferen\u00e7a entre a concentra\u00e7\u00e3o medida de **Oxig\u00eanio dissolvido** e a concentra\u00e7\u00e3o do seu **Estado de Equil\u00edbrio de Satura\u00e7\u00e3o**\n",
      "\n",
      "* Tais diferen\u00e7\u00e3o ocorrem por atividade biol\u00f3gica que muda o oxig\u00eanio dispon\u00edvel na \u00e1gua.\n",
      "\n",
      "* Consequentemte **AOU** de uma amostra de \u00e1gua representa a some da atividade biol\u00f3gica que essa amostra sofreu desde seu equil\u00edbrio com a atmosfera."
     ]
    },
    {
     "cell_type": "markdown",
     "metadata": {
      "slideshow": {
       "slide_type": "slide"
      }
     },
     "source": [
      "### Para melhor enxergar o que s\u00e3o os nutrientes pr\u00e9-formados vamos utilizar apenas as camadas superficiais."
     ]
    },
    {
     "cell_type": "code",
     "collapsed": false,
     "input": [
      "df = A16[['PHSPHT', 'AOU', 'PDEN']].dropna()\n",
      "\n",
      "mask = np.logical_and(df['PDEN'] >=25, df['PDEN'] <= 26.7)\n",
      "df = df[mask]\n",
      "\n",
      "fig, ax = plt.subplots()\n",
      "ax.scatter(df['PHSPHT'], df['AOU'], c='k', alpha=0.7)\n",
      "ax.grid(True)\n",
      "ax.set_xlabel(r'Phosphate [$\\mu$mol kg$^{-1}$]')\n",
      "ax.set_ylabel(r'AOU [$\\mu$mol kg$^{-1}$]')\n",
      "ax.axis('tight')\n",
      "\n",
      "plot_gmfit(df['PHSPHT'], df['AOU'], ax)"
     ],
     "language": "python",
     "metadata": {
      "slideshow": {
       "slide_type": "slide"
      }
     },
     "outputs": []
    },
    {
     "cell_type": "code",
     "collapsed": false,
     "input": [
      "# AOU vs Fosfato apenas das camadas superficiais.\n",
      "Image('./figures/aouvp.png', retina=True)"
     ],
     "language": "python",
     "metadata": {
      "slideshow": {
       "slide_type": "subslide"
      }
     },
     "outputs": []
    },
    {
     "cell_type": "code",
     "collapsed": false,
     "input": [
      "df = A16[['NITRAT', 'AOU', 'PDEN']].dropna()\n",
      "\n",
      "mask = np.logical_and(df['PDEN'] >=25, df['PDEN'] <= 26.7)\n",
      "df = df[mask]\n",
      "\n",
      "fig, ax = plt.subplots()\n",
      "ax.scatter(df['NITRAT'], df['AOU'], c='k', alpha=0.7)\n",
      "ax.grid(True)\n",
      "ax.set_xlabel(r'Nitrate [$\\mu$mol kg$^{-1}$]')\n",
      "ax.set_ylabel(r'AOU [$\\mu$mol kg$^{-1}$]')\n",
      "ax.axis('tight')\n",
      "\n",
      "plot_gmfit(df['NITRAT'], df['AOU'], ax)"
     ],
     "language": "python",
     "metadata": {
      "slideshow": {
       "slide_type": "slide"
      }
     },
     "outputs": []
    },
    {
     "cell_type": "code",
     "collapsed": false,
     "input": [
      "# AOU vs Carb\u00f4nico org\u00e2nico Dissolvido apenas das camadas superficiais.\n",
      "Image('./figures/aouvdic.png', retina=True)"
     ],
     "language": "python",
     "metadata": {
      "slideshow": {
       "slide_type": "subslide"
      }
     },
     "outputs": []
    },
    {
     "cell_type": "markdown",
     "metadata": {
      "slideshow": {
       "slide_type": "slide"
      }
     },
     "source": [
      "A Taxa de PO$_4^{-3}$ \u00e9 estimado usando um ajuste linear\n",
      "entre Fosfato e idade.\n",
      "\n",
      "A idade \u00e9 derivada de dados de radio carbono.  Isso porque o m\u00e9todo do CFC \u00e9\n",
      "limitado a idades entre 5-35 anos, logo idades por 14C s\u00e3o recomendadas para\n",
      "massas d'\u00e1gua mais velhas (profundas).\n",
      "\n",
      "A inclina\u00e7\u00e3o da reta \u00e9 de 0.00139, o que significa que 1,39 $\\times$ 10$^{-3} \\mu$mol de P \u00e9 formado por ano."
     ]
    },
    {
     "cell_type": "code",
     "collapsed": false,
     "input": [
      "Image('./figures/pvage.png', retina=True)"
     ],
     "language": "python",
     "metadata": {
      "slideshow": {
       "slide_type": "subslide"
      }
     },
     "outputs": []
    },
    {
     "cell_type": "markdown",
     "metadata": {
      "slideshow": {
       "slide_type": "slide"
      }
     },
     "source": [
      "### Para maiores informa\u00e7\u00f5es chequem o paper original no link:\n",
      "\n",
      "#### http://dx.doi.org/10.1016/S0967-0637(99)00025-4"
     ]
    },
    {
     "cell_type": "code",
     "collapsed": false,
     "input": [
      "columns = [r'Temperature ($^\\circ$C)', 'Salinity (PSU)', 'Silicate', r'NO ($\\mu$mol kg$^{-1}$)']\n",
      "index = ['AAIW', 'UCDW', 'UNADW', 'TDDW', 'AABW', 'Uncertainties']\n",
      "data = np.c_[\n",
      "             [ 3.65,  2.53,     4,   2.3,  0.14,  0.16],\n",
      "             [34.18, 34.65, 34.97, 34.91, 34.68, 0.016],\n",
      "             [   15,    67,    18,    36,   113,   1.9],\n",
      "             [  506,   468,   422,   442,   526,   8.8]\n",
      "             ]\n",
      "df = DataFrame(data, index=index, columns=columns)\n",
      "df.index.name = 'Water type'\n",
      "df"
     ],
     "language": "python",
     "metadata": {
      "slideshow": {
       "slide_type": "slide"
      }
     },
     "outputs": []
    },
    {
     "cell_type": "markdown",
     "metadata": {
      "slideshow": {
       "slide_type": "slide"
      }
     },
     "source": [
      "* AAIW: \u00c1gua Ant\u00e1rtica Intermedi\u00e1ria (AIA) [600--800 metros]\n",
      "* UCDW: \u00c1gua Circumploar Superior (ACS) [1000-1200 metros]\n",
      "* UNADW: \u00c1gua Profunda do Atl\u00e2ntico Norte \"Superior\" [1000-2000 metros]\n",
      "* TDDW: \u00c1gua Profunda de Dois Graus (Mistura entre APAN e AFA no Atl\u00e2ntico Oeste)\n",
      "* AABW: \u00c1gua Profuda Ant\u00e1rtica (AFA)"
     ]
    },
    {
     "cell_type": "code",
     "collapsed": false,
     "input": [
      "%%latex\n",
      "\\begin{align*}\n",
      "x_1 T_1 + x_2 T_2 + x_3 T_3 + x_4 T_4 &= T \\\\\n",
      "x_1 S_1 + x_2 S_2 + x_3 S_3 + x_4 S_4 &= S \\\\\n",
      "x_1 O_1 + x_2 O_2 + x_3 O_3 + x_4 O_4 + -\\alpha J_o &= O \\\\\n",
      "x_1 N_1 + x_2 N_2 + x_3 N_3 + x_4 N_4 + R_N\\alpha J_o &= N \\\\\n",
      "x_1 P_1 + x_2 P_2 + x_3 P_3 + x_4 P_4 + R_P\\alpha J_o &= P \\\\\n",
      "x_1 + x_2 + x_3 + x_4 &= 1\n",
      "\\end{align*}"
     ],
     "language": "python",
     "metadata": {
      "slideshow": {
       "slide_type": "slide"
      }
     },
     "outputs": []
    },
    {
     "cell_type": "markdown",
     "metadata": {
      "slideshow": {
       "slide_type": "fragment"
      }
     },
     "source": [
      "* $O$, $N$, $P$ representam Oxig\u00eanio, Nitrato e fosfato inorg\u00e2nicos;\n",
      "* $\\alpha$ e $J_o$ representam respectivamente uma idade efetiva da massa de \u00e1gua e consumo de oxig\u00eanio *in-situ*;\n",
      "* $R_N$ e $R_P$ S\u00e3o as taxa estequiom\u00e9trica de Redfiled para nitrato e fosfato."
     ]
    },
    {
     "cell_type": "markdown",
     "metadata": {
      "slideshow": {
       "slide_type": "skip"
      }
     },
     "source": [
      "1. Property Analysis, water mass analysis, isopycnal analysis\n",
      "Two objectives of studying the general circulation are to determine the velocity structure and also the pathways for water parcels. We are also interested in the fluxes of various properties. For physical oceanography and climate, heat and freshwater fluxes are of interest. For climate and biogeochemical cycles, fluxes of other properties such as carbon and nutrients are of interest.\n",
      " \n",
      "Most of our knowledge of the circulation is somewhat indirect, using the geostrophic method to determine velocity referenced to a known velocity pattern at some depth. If the reference velocity pattern is not known well, then we must deduce it. Deduction of the absolute velocity field is based on all of the information that we can bring to bear. This includes identifying sources of waters, by their contrasting properties, and determining which direction they appear to spread on average.\n",
      " \n",
      "Water properties are used to trace parcels over great distances. Over these distances, parcels mix with waters of other properties. It is assumed that mixing is easier along isentropic (isopycnal) surfaces than across them and certainly changes in T/S characteristics do often compensate (so that density remains unchanged). However, it is clear from distributions of some properties that of course there is mixing both along and across isopycnals (isopycnal and diapycnal mixing). This tracing of waters is useful (in conjunction with the relative geostrophic flow calculations that can be made from the observed density field), in order to describe the average general ocean circulation.\n",
      " \n",
      "We use the concept of water masses as a convenient way to tag the basic source waters. The definition of a \"water mass\" is somewhat vague, but is in the sense of \"cores\" of high or low properties, such as salinity or oxygen, in the vertical and along isopycnal surfaces. A range of densities (depths) is usually considered for a given water mass. Water mass definitions may change as a layer is followed from one basin or ocean to another, particularly if the trans-basin exchange involves mixing.\n",
      " \n",
      "Traditionally, water mass analysis was based on plotting various properties against each other, and attempting to explain the observed distributions of properties as a result of mixing between the identified \"sources\". However, point sources of waters occur only in relatively few regions, and in general \"source\" waters have a range of properties. The sources are almost always surface waters, or near-surface waters that are created by, say, air-sea interaction, brine rejection, or flow over and through a narrow passage/sill.\n",
      " \n",
      "The most commonly used property-property displays are (a) potential temperature vs. salinity, and (b) properties along isopycnal surfaces. Figure. Potential temperature versus salinity along 20 and 25W in the Atlantic Ocean, from Iceland across the equator to South Georgia Island.\n",
      "Blue - equator to Iceland. Red - equator to about 30S. Green - 30S to South Georgia Island. The Atlantic 25W meridional potential temperature and salinity sections were already shown.\n",
      "\n",
      "2. Tracers\n",
      "Seawater properties are valuable tools for tracing water parcels, because water mass formation processes imprint distinct properties on the water parcels. They are of most use when the sources and sinks of one property compared with another differ. Some tracers are biogenic and hence non-conservative. These include oxygen and the various nutrients, all discussed very briefly here. Some useful tracers are inert but with time-dependent inputs, such as chlorofluorocarbons (CFCs). Some useful tracers have decay times and decay products, which can serve as a useful measure of age, such as bomb tritium and helium. The latter are referred to as transient tracers, and are not discussed here.\n",
      "\n",
      "8.1. Oxygen. Non-conservative tracer. The atmosphere is the primary source of oxygen in the ocean and surface waters are usually close to saturation.  Per cent saturation of oxygen depends strongly on temperature. Cold water holds more oxygen. Below the surface, oxygen concentration decays as a result of consumption by organisms and by oxidation of detritus (marine snow). Therefore, oxygen content decreases with age, so it can be used in a rough way to date the water, particularly at depth where consumption is very small. However, it is not a precise age tracer because the consumption rate is not a constant. Also, since waters of different oxygen content mix, the age is not simply related to concentration. However, low values of oxygen, such as those found in the North Pacific deep and intermediate layers, are an indication of waters that have been away from the sea surface for a long time. In the Black Sea there is no oxygen (anoxic) but hydrogen sulphide is present instead (from reduction of sulphate by bacteria). This indicates very stagnant deep waters.\n",
      "8.2. Nitrate and phosphate: Both non-conservative. Nitrate and phosphate are completely depleted in surface waters in the subtropical regions where there is net downwelling from the surface and hence no subsurface source of nutrients. In upwelling regions there is measurable nitrate/phosphate in the surface waters. Nitrogen is present in sea water in dissolved N2 gas, nitrite, ammonia, and nitrate, as well as in organic forms. As water leaves the sea surface, particularly the euphotic zone, productivity is limited by sunlight and nutrients are \"regenerated\". That is, the marine snow is decomposed by bacteria and produces nitrate and phosphate. Nitrate and phosphate thus increase with the age of the water. Vertical sections and maps of nitrate and phosphate appear nearly as mirror images of oxygen, but there are important differences in their patterns, particularly in the upper 1000 meters.\n",
      "Nitrate/oxygen and phosphate/oxygen combinations - nearly conservative tracers. Nitrate/oxygen and phosphate/oxygen are present in seawater in nearly constant proportions, given by the Redfield ratio. The Redfield ratio is C:NO3:PO4:O2 = 105:15:1:135. There are small variations in this ratio, with particularly large deviations near the sea surface. Because of the near constancy of this ratio, a combination of nitrate and oxygen and of phosphate and oxygen is a nearly conservative tracer (Broecker).\n",
      "8.3 Dissolved silica - non-conservative. In seawater it is present as H2SiO4 (silicic acid) rather than silicate (SiO3), but many people use the term silicate. This nutrient is also depleted in surface waters similarly to nitrate and phosphate - completely depleted in downwelling areas and small but measurable quantities in upwelling areas. Subsurface distributions of silica look something like nitrate and phosphate and mirror oxygen since silica is also regenerated in situ below the euphotic zone. However, silica in marine organisms is associated with skeletons rather than fleshy parts and so dissolves more slowly in the water. Much of the silica thus falls to the bottom of the ocean and accumulates in the sediments. Dissolution from the bottom sediments constitutes a source of silica for the water column which is not available for nitrate, phosphate or oxygen. Another independent source of silica are the hydrothermal vents which spew water of extremely high temperature, silica content, and helium content, as well as many other minerals, into the ocean. These three quantities are used commonly to trace hydrothermal water.\n",
      "Property-property relations (O2/NO3, O2/PO4, NO3/PO4, O2/SiO4) (umol/kg)"
     ]
    }
   ],
   "metadata": {}
  }
 ]
}