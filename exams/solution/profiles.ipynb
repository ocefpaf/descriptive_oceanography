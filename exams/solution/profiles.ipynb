{
 "metadata": {
  "name": "",
  "signature": "sha256:2fac6755d39e5b14dbac9f690f1f1d99d48ea8227f6bba013d11519f249168a4"
 },
 "nbformat": 3,
 "nbformat_minor": 0,
 "worksheets": [
  {
   "cells": [
    {
     "cell_type": "code",
     "collapsed": false,
     "input": [
      "from IPython.core.display import HTML\n",
      "\n",
      "with open('../../common/creativecommons.html', 'r') as f:\n",
      "    html = f.read()\n",
      "    \n",
      "with open('../../common/custom.css', 'r') as f:\n",
      "    styles = f.read()\n",
      "    \n",
      "HTML(styles)\n",
      "\n",
      "text = 'Check this post at'\n",
      "uri = 'http://nbviewer.ipython.org/urls/raw.github.com/ocefpaf/python4oceanographers/master/content/downloads/notebooks'\n",
      "name = 'profiles'\n",
      "link = \"\"\"<p>%s <a href=\"%s/%s\"><em>nbviewer</em>.</a></p>\"\"\" % (text, uri, name)\n",
      "html += str(link)"
     ],
     "language": "python",
     "metadata": {},
     "outputs": [],
     "prompt_number": null
    },
    {
     "cell_type": "code",
     "collapsed": false,
     "input": [
      "import seaborn\n",
      "import numpy as np\n",
      "import seawater as sw\n",
      "from netCDF4 import Dataset\n",
      "import matplotlib.pyplot as plt"
     ],
     "language": "python",
     "metadata": {},
     "outputs": [],
     "prompt_number": null
    },
    {
     "cell_type": "markdown",
     "metadata": {},
     "source": [
      "[A temperatura por ser aproximada pela lei de pot\u00eancia](http://pt.wikipedia.org/wiki/Lei_de_pot%C3%AAncia):\n",
      "\n",
      "$t(z) = t_o, -\\text{MLD} \\le z < 0$\n",
      "\n",
      "$t(z) = t_o az^{b}, z < -\\text{MLD}$"
     ]
    },
    {
     "cell_type": "code",
     "collapsed": false,
     "input": [
      "def temperature(to=25, a=115, b=-0.9, mld=200, maxdepth=4000):\n",
      "    dz = 1\n",
      "    z = np.arange(0, maxdepth + dz, dz)\n",
      "    t_mld = [to] * len(z[:mld])\n",
      "    t = to * a * z[mld:] ** b\n",
      "    return np.r_[t_mld, t], z\n",
      "\n",
      "mld = 200\n",
      "t, z = temperature(mld=mld)"
     ],
     "language": "python",
     "metadata": {},
     "outputs": [],
     "prompt_number": null
    },
    {
     "cell_type": "markdown",
     "metadata": {},
     "source": [
      "A salinidade ser\u00e1 ajusta \u00e0 temperatura atrav\u00e9s da sua rela\u00e7\u00e3o TS para o Atl\u00e2ntico:"
     ]
    },
    {
     "cell_type": "code",
     "collapsed": false,
     "input": [
      "nc = Dataset('woa01an.nc')\n",
      "lon = nc.variables['WOA01_LONX'][:]\n",
      "lat = nc.variables['WOA01_LATX'][:]\n",
      "temp = nc.variables['WOA01_MEAN_TEMP'][:]\n",
      "sal = nc.variables['WOA01_MEAN_PSAL'][:]\n",
      "\n",
      "maskx = np.logical_and(lon < -5.5, lon > -45.5)\n",
      "masky = np.logical_and(lat < 0, lat > -45)\n",
      "lon = lon[maskx]\n",
      "lat = lat[masky]\n",
      "\n",
      "temp = temp[masky, ...][:, maskx, :].mean(axis=0).mean(axis=0)\n",
      "sal = sal[masky, ...][:, maskx, :].mean(axis=0).mean(axis=0)\n",
      "\n",
      "p = np.polyfit(temp, sal, 3)\n",
      "S = np.polyval(p, t)\n",
      "S[:mld+25] = S.max()"
     ],
     "language": "python",
     "metadata": {},
     "outputs": [],
     "prompt_number": null
    },
    {
     "cell_type": "markdown",
     "metadata": {},
     "source": [
      "Finalmente a densidade \u00e9 calculada usando ambos perfis:"
     ]
    },
    {
     "cell_type": "code",
     "collapsed": false,
     "input": [
      "dens = sw.dens0(S, t) - 1000"
     ],
     "language": "python",
     "metadata": {},
     "outputs": [],
     "prompt_number": null
    },
    {
     "cell_type": "code",
     "collapsed": false,
     "input": [
      "fig, (ax0, ax1, ax2) = plt.subplots(ncols=3, sharey=True, figsize=(12, 8))\n",
      "\n",
      "ax0.invert_yaxis()\n",
      "kw = dict(colors='k', zorder=2)\n",
      "kwp = dict(linewidth=2, zorder=1)\n",
      "kwt = dict(va='center', ha='center', fontweight='semibold')\n",
      "\n",
      "xmin, xmax = 0, 26\n",
      "ax0.plot(t, z, **kwp)\n",
      "ax0.set_xlim(xmin, xmax)\n",
      "ax0.set_ylim(z.max(), -100)\n",
      "ax0.set_xlabel(u'Temperatura [\\u00B0C]')\n",
      "ax0.set_ylabel('Profundidade [m]')\n",
      "\n",
      "ax0.hlines(mld, xmin, xmax, linestyles='--', **kw)\n",
      "ax0.hlines(1000, xmin, xmax, linestyles='--', **kw)\n",
      "\n",
      "ax0.text(12.5, 0, 'Camada de Mistura', **kwt)\n",
      "ax0.text(12.5, 750, 'Termoclina', **kwt)\n",
      "ax0.text(12.5, 1500, 'Camada profunda', **kwt)\n",
      "\n",
      "xmin, xmax = 34, 36.5\n",
      "ax1.plot(S, z, **kwp)\n",
      "ax1.set_xlim(xmin, xmax)\n",
      "ax1.set_ylim(z.max(), -100)\n",
      "ax1.set_xlabel(r'Salinidade [g kg$^{-1}$]')\n",
      "\n",
      "ax1.hlines(mld, xmin, xmax, linestyles='--', **kw)\n",
      "ax1.hlines(1000, xmin, xmax, linestyles='--', **kw)\n",
      "\n",
      "ax1.text(35.25, 0, 'Camada de Mistura', **kwt)\n",
      "ax1.text(35.25, 750, 'Haloclina', **kwt)\n",
      "ax1.text(35.25, 1500, 'Camada profunda', **kwt)\n",
      "\n",
      "xmin, xmax = 24, 28\n",
      "ax2.plot(dens, z, **kwp)\n",
      "ax2.set_xlim(xmin, xmax)\n",
      "ax2.set_ylim(z.max(), -100)\n",
      "ax2.set_xlabel(r'$\\sigma_{\\theta}$ [kg m$^{-3}$]')\n",
      "\n",
      "ax2.hlines(mld, xmin, xmax, linestyles='--', **kw)\n",
      "ax2.hlines(1000, xmin, xmax, linestyles='--', **kw)\n",
      "\n",
      "ax2.text(26, 0, 'Camada de Mistura', **kwt)\n",
      "ax2.text(26, 750, 'Picnoclina', **kwt)\n",
      "ax2.text(26, 1500, 'Camada profunda', **kwt)"
     ],
     "language": "python",
     "metadata": {},
     "outputs": [],
     "prompt_number": null
    },
    {
     "cell_type": "code",
     "collapsed": false,
     "input": [
      "fig.savefig('profiles.pdf')"
     ],
     "language": "python",
     "metadata": {},
     "outputs": [],
     "prompt_number": null
    },
    {
     "cell_type": "code",
     "collapsed": false,
     "input": [
      "HTML(html)"
     ],
     "language": "python",
     "metadata": {},
     "outputs": [],
     "prompt_number": null
    },
    {
     "cell_type": "markdown",
     "metadata": {},
     "source": [
      "### TODO"
     ]
    },
    {
     "cell_type": "markdown",
     "metadata": {},
     "source": [
      "[A salinidade ser\u00e1 aproximada por uma exponecial dupla:](http://journals.ametsoc.org/doi/abs/10.1175/1520-0426%281992%29009%3C0812%3AOSHPFA%3E2.0.CO%3B2)\n",
      "\n",
      "$S(z) = S_o, -\\text{MLD} \\le z < 0$\n",
      "\n",
      "$ S(z) = S_b + (S_o - S_b)\\{c \\exp[(z+\\text{MLD})/d_1] + (1-c)\\exp[(z+\\text{MLD})/d_2] \\}, z < -\\text{MLD}$"
     ]
    },
    {
     "cell_type": "code",
     "collapsed": false,
     "input": [
      "def salinity(So=32.98, Sb=34.85, d1=24.13, d2=24.23, c=0.42,\n",
      "             mld=26.09, maxdepth=300):\n",
      "    dz = 1\n",
      "    z = np.arange(0, maxdepth + dz, dz)\n",
      "    S_mld = [So] * len(z[:mld])\n",
      "    exp1 = c * np.exp((-z + mld) / d1)\n",
      "    exp2 = (1 - c) * np.exp((-z + mld) / d2)\n",
      "    S = Sb + (So - Sb) * (exp1 + exp2)\n",
      "    S[:mld] = S_mld\n",
      "    return S, z\n",
      "\n",
      "S, z = salinity()\n",
      "plt.plot(S, -z)\n",
      "S.max()"
     ],
     "language": "python",
     "metadata": {},
     "outputs": [],
     "prompt_number": null
    }
   ],
   "metadata": {}
  }
 ]
}