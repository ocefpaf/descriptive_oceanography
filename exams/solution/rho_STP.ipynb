{
 "metadata": {
  "name": "",
  "signature": "sha256:c0ee3ceba60425af06b5ce37d312136d0e612817e234564296e0972a221aa761"
 },
 "nbformat": 3,
 "nbformat_minor": 0,
 "worksheets": [
  {
   "cells": [
    {
     "cell_type": "code",
     "collapsed": false,
     "input": [
      "from IPython.core.display import HTML\n",
      "\n",
      "with open('../../common/creativecommons.html', 'r') as f:\n",
      "    html = f.read()\n",
      "    \n",
      "with open('../../common/custom.css', 'r') as f:\n",
      "    styles = f.read()\n",
      "    \n",
      "HTML(styles)\n",
      "\n",
      "text = 'Check this post at'\n",
      "uri = 'http://nbviewer.ipython.org/urls/raw.github.com/ocefpaf/python4oceanographers/master/content/downloads/notebooks'\n",
      "name = 'rho_STP'\n",
      "link = \"\"\"<p>%s <a href=\"%s/%s\"><em>nbviewer</em>.</a></p>\"\"\" % (text, uri, name)\n",
      "html += str(link)"
     ],
     "language": "python",
     "metadata": {},
     "outputs": [],
     "prompt_number": null
    },
    {
     "cell_type": "code",
     "collapsed": false,
     "input": [
      "import numpy as np\n",
      "import seawater as sw\n",
      "import matplotlib.pyplot as plt"
     ],
     "language": "python",
     "metadata": {},
     "outputs": [],
     "prompt_number": null
    },
    {
     "cell_type": "code",
     "collapsed": false,
     "input": [
      "from matplotlib import rcParams\n",
      "from matplotlib.ticker import MultipleLocator, ScalarFormatter\n",
      "rcParams['xtick.direction'] = 'out'\n",
      "rcParams['ytick.direction'] = 'out'\n",
      "\n",
      "def fix_ticks(ax, x=None, y=None):\n",
      "    ax.yaxis.set_major_formatter(ScalarFormatter(useOffset=False))\n",
      "    ax.yaxis.set_major_locator(MultipleLocator(y))\n",
      "    ax.xaxis.set_major_locator(MultipleLocator(x))"
     ],
     "language": "python",
     "metadata": {},
     "outputs": [],
     "prompt_number": null
    },
    {
     "cell_type": "code",
     "collapsed": false,
     "input": [
      "S = np.linspace(0, 35.5, 50)\n",
      "T = np.linspace(0, 20, 50)\n",
      "P = np.linspace(0, 5000, 50)"
     ],
     "language": "python",
     "metadata": {},
     "outputs": [],
     "prompt_number": null
    },
    {
     "cell_type": "code",
     "collapsed": false,
     "input": [
      "fig = plt.figure(figsize=(8, 8))\n",
      "\n",
      "ax0 = fig.add_axes([0.1, 0.6, 0.35, 0.35])\n",
      "ax1 = fig.add_axes([0.6, 0.6, 0.35, 0.35])\n",
      "ax2 = fig.add_axes([0.35, 0.1, 0.35, 0.35])\n",
      "\n",
      "ax0.plot(S, sw.dens(S, 0, 0))\n",
      "ax0.set_title(u'T=0, p=0')\n",
      "ax0.set_xlabel(r'Salinidade [g kg$^{-1}$]')\n",
      "ax0.set_ylabel(r'Densidade [kg m$^{-3}$]')\n",
      "fix_ticks(ax0, x=10, y=10)\n",
      "\n",
      "ax1.plot(T, sw.dens(35, T, 0))\n",
      "ax1.set_title('S=35.0, p=0')\n",
      "ax1.set_xlabel(u'Temperatura [\\u00b0C]')\n",
      "ax1.set_ylabel(r'Densidade [kg m$^{-3}$]')\n",
      "fix_ticks(ax1, x=4, y=1)\n",
      "\n",
      "ax2.plot(P, sw.dens(35, 0, P))\n",
      "ax2.set_title(u'S=35.0, T=0')\n",
      "ax2.set_xlabel(u'Press\u00e3o [dbar]')\n",
      "ax2.set_ylabel(r'Densidade [kg m$^{-3}$]')\n",
      "fix_ticks(ax2, x=2000, y=5)"
     ],
     "language": "python",
     "metadata": {},
     "outputs": [],
     "prompt_number": null
    },
    {
     "cell_type": "code",
     "collapsed": false,
     "input": [
      "fig.savefig('densidade.pdf')"
     ],
     "language": "python",
     "metadata": {},
     "outputs": [],
     "prompt_number": null
    },
    {
     "cell_type": "code",
     "collapsed": false,
     "input": [
      "HTML(html)"
     ],
     "language": "python",
     "metadata": {},
     "outputs": [],
     "prompt_number": null
    }
   ],
   "metadata": {}
  }
 ]
}