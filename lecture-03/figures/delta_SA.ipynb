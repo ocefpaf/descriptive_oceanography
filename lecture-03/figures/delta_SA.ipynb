{
 "metadata": {
  "name": ""
 },
 "nbformat": 3,
 "nbformat_minor": 0,
 "worksheets": [
  {
   "cells": [
    {
     "cell_type": "code",
     "collapsed": false,
     "input": [
      "from IPython.core.display import HTML\n",
      "\n",
      "with open('../../common/creativecommons.html', 'r') as f:\n",
      "    html = f.read()\n",
      "    \n",
      "with open('../../common/custom.css', 'r') as f:\n",
      "    styles = f.read()\n",
      "    \n",
      "HTML(styles)\n",
      "\n",
      "text = 'Check this post at'\n",
      "uri = 'http://nbviewer.ipython.org/urls/raw.github.com/ocefpaf/python4oceanographers/master/content/downloads/notebooks'\n",
      "name = get_notebook_name()\n",
      "link = \"\"\"<p>%s <a href=\"%s/%s\"><em>nbviewer</em>.</a></p>\"\"\" % (text, uri, name)\n",
      "html += str(link)"
     ],
     "language": "python",
     "metadata": {},
     "outputs": [],
     "prompt_number": null
    },
    {
     "cell_type": "code",
     "collapsed": false,
     "input": [
      "import os\n",
      "import brewer2mpl\n",
      "import cartopy.crs as ccrs\n",
      "import matplotlib.ticker as mticker\n",
      "from cartopy.mpl.gridliner import LONGITUDE_FORMATTER, LATITUDE_FORMATTER\n",
      "\n",
      "from pandas import Panel\n",
      "from gsw.utilities import read_data"
     ],
     "language": "python",
     "metadata": {},
     "outputs": [],
     "prompt_number": null
    },
    {
     "cell_type": "code",
     "collapsed": false,
     "input": [
      "dark2_colors = brewer2mpl.get_map('Dark2', 'Qualitative', 7).mpl_colors\n",
      "rcParams['figure.figsize'] = (10, 6)\n",
      "rcParams['figure.dpi'] = 75\n",
      "rcParams['axes.color_cycle'] = dark2_colors\n",
      "rcParams['lines.linewidth'] = 2\n",
      "rcParams['axes.facecolor'] = 'white'\n",
      "rcParams['font.size'] = 14\n",
      "rcParams['patch.edgecolor'] = 'white'\n",
      "rcParams['patch.facecolor'] = dark2_colors[0]\n",
      "rcParams['font.family'] = 'StixGeneral'\n",
      "\n",
      "cmap = brewer2mpl.get_map('RdYlGn', 'diverging', 9).mpl_colormap"
     ],
     "language": "python",
     "metadata": {},
     "outputs": [],
     "prompt_number": null
    },
    {
     "cell_type": "code",
     "collapsed": false,
     "input": [
      "data = read_data(\"gsw_data_v3_0.npz\")"
     ],
     "language": "python",
     "metadata": {},
     "outputs": [],
     "prompt_number": null
    },
    {
     "cell_type": "code",
     "collapsed": false,
     "input": [
      "lon, lat, p = map(np.float_, (data.longs_ref, data.lats_ref, data.p_ref))"
     ],
     "language": "python",
     "metadata": {},
     "outputs": [],
     "prompt_number": null
    },
    {
     "cell_type": "code",
     "collapsed": false,
     "input": [
      "# deltaSA.\n",
      "dsa = np.ma.masked_invalid(data.deltaSA_ref.transpose((2, 1, 0)))\n",
      "dsa.data[dsa.mask] = 0\n",
      "\n",
      "# SAAR (Absolute Salinity Ratio).\n",
      "SAAR = np.ma.masked_invalid(data.SAAR_ref.transpose((2, 1, 0)))\n",
      "SAAR.data[SAAR.mask] = 0\n",
      "\n",
      "dsa = Panel(dsa, items=lon, major_axis=lat, minor_axis=p)\n",
      "SAAR = Panel(SAAR, items=lon, major_axis=lat, minor_axis=p)"
     ],
     "language": "python",
     "metadata": {},
     "outputs": [],
     "prompt_number": null
    },
    {
     "cell_type": "markdown",
     "metadata": {},
     "source": [
      "Absolute Salinity anomaly $\\delta_{\\text{SA}}$ at p $\\sim$ 2000 dbar."
     ]
    },
    {
     "cell_type": "code",
     "collapsed": false,
     "input": [
      "deltaSA = dsa.minor_xs(2025).values"
     ],
     "language": "python",
     "metadata": {},
     "outputs": [],
     "prompt_number": null
    },
    {
     "cell_type": "code",
     "collapsed": false,
     "input": [
      "fig, ax = plt.subplots(figsize=(10, 8), subplot_kw=dict(projection=ccrs.PlateCarree()))\n",
      "cs = ax.pcolormesh(lon, lat, deltaSA, transform=ccrs.PlateCarree(),\n",
      "                   cmap=cmap, zorder=0, clim=(0, 0.03))\n",
      "cbar = fig.colorbar(cs, orientation='vertical', shrink=0.5, extend='both')\n",
      "cbar.ax.set_ylabel(r\"g kg$^{-1}$\")\n",
      "gl = ax.gridlines()\n",
      "dx, dy = 40, 20\n",
      "_ = ax.set_xticks(range(-180, 180 + dx, dx))\n",
      "_ = ax.set_yticks(range(-90, 90 + dy, dy))"
     ],
     "language": "python",
     "metadata": {},
     "outputs": [],
     "prompt_number": null
    },
    {
     "cell_type": "code",
     "collapsed": false,
     "input": [
      "fname = \"delta_SA.png\"\n",
      "fig.savefig(fname, transparent=True)\n",
      "_ = os.system('convert -trim %s %s' % (fname, fname))"
     ],
     "language": "python",
     "metadata": {},
     "outputs": [],
     "prompt_number": null
    },
    {
     "cell_type": "code",
     "collapsed": false,
     "input": [
      "HTML(html)"
     ],
     "language": "python",
     "metadata": {},
     "outputs": [],
     "prompt_number": null
    }
   ],
   "metadata": {}
  }
 ]
}