{
 "metadata": {
  "name": ""
 },
 "nbformat": 3,
 "nbformat_minor": 0,
 "worksheets": [
  {
   "cells": [
    {
     "cell_type": "code",
     "collapsed": false,
     "input": [
      "from IPython.core.display import HTML\n",
      "\n",
      "with open('../../common/creativecommons.html', 'r') as f:\n",
      "    html = f.read()\n",
      "    \n",
      "with open('../../common/custom.css', 'r') as f:\n",
      "    styles = f.read()\n",
      "    \n",
      "HTML(styles)\n",
      "\n",
      "text = 'Check this post at'\n",
      "uri = 'http://nbviewer.ipython.org/urls/raw.github.com/ocefpaf/python4oceanographers/master/content/downloads/notebooks'\n",
      "name = get_notebook_name()\n",
      "link = \"\"\"<p>%s <a href=\"%s/%s\"><em>nbviewer</em>.</a></p>\"\"\" % (text, uri, name)\n",
      "html += str(link)"
     ],
     "language": "python",
     "metadata": {},
     "outputs": [],
     "prompt_number": null
    },
    {
     "cell_type": "code",
     "collapsed": false,
     "input": [
      "import numpy as np\n",
      "import seawater as sw\n",
      "import matplotlib.pyplot as plt\n",
      "\n",
      "from mpltools import style\n",
      "style.use( 'dark_background')"
     ],
     "language": "python",
     "metadata": {},
     "outputs": [],
     "prompt_number": null
    },
    {
     "cell_type": "code",
     "collapsed": false,
     "input": [
      "from matplotlib import rcParams\n",
      "from matplotlib.ticker import MultipleLocator, ScalarFormatter\n",
      "rcParams['xtick.direction'] = 'out'\n",
      "rcParams['ytick.direction'] = 'out'\n",
      "\n",
      "def fix_ticks(ax, x=None, y=None):\n",
      "    ax.yaxis.set_major_formatter(ScalarFormatter(useOffset=False))\n",
      "    ax.yaxis.set_major_locator(MultipleLocator(y))\n",
      "    ax.xaxis.set_major_locator(MultipleLocator(x))"
     ],
     "language": "python",
     "metadata": {},
     "outputs": [],
     "prompt_number": null
    },
    {
     "cell_type": "code",
     "collapsed": false,
     "input": [
      "S = np.linspace(0, 35.5, 50)\n",
      "T = np.linspace(0, 20, 50)\n",
      "P = np.linspace(0, 5000, 50)\n",
      "Tfreeze = np.linspace(0, -2.0, 50)"
     ],
     "language": "python",
     "metadata": {},
     "outputs": [],
     "prompt_number": null
    },
    {
     "cell_type": "code",
     "collapsed": false,
     "input": [
      "fig, axes = plt.subplots(nrows=2, ncols=2, figsize=(6, 6))\n",
      "ax0, ax1, ax2, ax3 = axes.ravel()\n",
      "fig.subplots_adjust(left=0.15, wspace=0.5, hspace=0.5)\n",
      "\n",
      "ax0.plot(T, sw.dens(35, T, 0))\n",
      "ax0.set_title('S=35.0, p=0')\n",
      "ax0.set_xlabel(u'Temperatura [\\u00b0C]')\n",
      "ax0.set_ylabel(r'Densidade [kg m$^{-3}$]')\n",
      "fix_ticks(ax0, x=4, y=1)\n",
      "\n",
      "ax1.plot(P, sw.dens(35, 0, P))\n",
      "ax1.set_title(u'S=35.0, T=0')\n",
      "ax1.set_xlabel(u'Press\u00e3o [dbar]')\n",
      "ax1.set_ylabel(r'Densidade [kg m$^{-3}$]')\n",
      "fix_ticks(ax1, x=2000, y=5)\n",
      "\n",
      "ax2.plot(T, sw.dens(0, T, 0))\n",
      "ax2.set_title(u'S=0, p=0')\n",
      "ax2.set_xlabel(u'Temperatura [\\u00b0C]')\n",
      "ax2.set_ylabel(r'Densidade [kg m$^{-3}$]')\n",
      "fix_ticks(ax2, x=4, y=0.2)\n",
      "\n",
      "ax3.plot(S, Tfreeze)\n",
      "ax3.set_title(u'Ponto de congelamento')\n",
      "ax3.set_ylabel(u'Temperatura [\\u00b0C]')\n",
      "ax3.set_xlabel(r'Salinidade [g kg$^{-1}$]')\n",
      "fix_ticks(ax3, x=10, y=0.2)"
     ],
     "language": "python",
     "metadata": {},
     "outputs": [],
     "prompt_number": null
    },
    {
     "cell_type": "code",
     "collapsed": false,
     "input": [
      "fig.savefig('densidade.pdf')"
     ],
     "language": "python",
     "metadata": {},
     "outputs": [],
     "prompt_number": null
    },
    {
     "cell_type": "code",
     "collapsed": false,
     "input": [
      "HTML(html)"
     ],
     "language": "python",
     "metadata": {},
     "outputs": [],
     "prompt_number": null
    }
   ],
   "metadata": {}
  }
 ]
}