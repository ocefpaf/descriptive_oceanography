{
 "metadata": {
  "name": ""
 },
 "nbformat": 3,
 "nbformat_minor": 0,
 "worksheets": [
  {
   "cells": [
    {
     "cell_type": "code",
     "collapsed": false,
     "input": [
      "from IPython.core.display import HTML\n",
      "\n",
      "with open('../../common/creativecommons.html', 'r') as f:\n",
      "    html = f.read()\n",
      "    \n",
      "with open('../../common/custom.css', 'r') as f:\n",
      "    styles = f.read()\n",
      "    \n",
      "HTML(styles)\n",
      "\n",
      "text = 'Check this post at'\n",
      "uri = 'http://nbviewer.ipython.org/urls/raw.github.com/ocefpaf/python4oceanographers/master/content/downloads/notebooks'\n",
      "name = get_notebook_name()\n",
      "link = \"\"\"<p>%s <a href=\"%s/%s\"><em>nbviewer</em>.</a></p>\"\"\" % (text, uri, name)\n",
      "html += str(link)"
     ],
     "language": "python",
     "metadata": {},
     "outputs": [],
     "prompt_number": null
    },
    {
     "cell_type": "markdown",
     "metadata": {},
     "source": [
      "## Exemplo de ler e plotar os dados."
     ]
    },
    {
     "cell_type": "code",
     "collapsed": false,
     "input": [
      "import gsw\n",
      "import numpy as np\n",
      "import matplotlib.pyplot as plt\n",
      "\n",
      "from mpltools import style\n",
      "from pandas import read_csv\n",
      "\n",
      "style.use( 'dark_background')"
     ],
     "language": "python",
     "metadata": {},
     "outputs": [],
     "prompt_number": null
    },
    {
     "cell_type": "code",
     "collapsed": false,
     "input": [
      "lon, lat = -(70. + 59.59 / 60.), 36. + 40.03 / 60.\n",
      "st61 = read_csv('Endeavor_Cruise-88_Station-61.csv', comment='#',\n",
      "                header=5, index_col=0)"
     ],
     "language": "python",
     "metadata": {},
     "outputs": [],
     "prompt_number": null
    },
    {
     "cell_type": "code",
     "collapsed": false,
     "input": [
      "print(st61.head(5))"
     ],
     "language": "python",
     "metadata": {},
     "outputs": [],
     "prompt_number": null
    },
    {
     "cell_type": "code",
     "collapsed": false,
     "input": [
      "kw = dict(linewidth=2)\n",
      "fig, (ax0, ax1) = plt.subplots(ncols=2, sharey=True, figsize=(10, 6))\n",
      "ax0.plot(st61['t'], st61.index, color='#FF6600', **kw)\n",
      "ax0.set_ylabel(u\"Press\u00e3o [dbar]\")\n",
      "ax0.set_xlabel(u\"Temperatura [\u00b0C]\")\n",
      "ax0.grid()\n",
      "ax0.invert_yaxis()\n",
      "\n",
      "ax1.plot(st61['S'], st61.index, color='#00FFFF', **kw)\n",
      "ax1.set_xlabel(r\"Salinidade [g kg$^{-1}$]\")\n",
      "ax1.grid()"
     ],
     "language": "python",
     "metadata": {},
     "outputs": [],
     "prompt_number": null
    },
    {
     "cell_type": "code",
     "collapsed": false,
     "input": [
      "Te = np.arange(0, 32, 2)\n",
      "Se = np.arange(32, 38.25, 0.25)\n",
      "\n",
      "Sg, Tg = np.meshgrid(Se, Te)\n",
      "cnt = np.arange(20, 34)\n",
      "\n",
      "sigma_theta = gsw.sigma0_pt0_exact(Sg, Tg)\n",
      "\n",
      "fig, ax = plt.subplots(figsize=(6, 6))\n",
      "ax.plot(st61['S'], st61['t'], marker='o', markeredgecolor='w', markerfacecolor='#FF6600', linestyle='none')\n",
      "ax.set_ylabel(u\"Temperatura \\u00b0C\")\n",
      "ax.set_xlabel(r\"Salinidade [g kg$^{-1}$]\")\n",
      "\n",
      "cs = ax.contour(Se, Te, sigma_theta, colors='white', levels=cnt)\n",
      "ax.clabel(cs, fontsize=9, inline=1, fmt='%2.1f')\n",
      "_ = ax.axis([31.8, 37.2, 0.0, 30.0])"
     ],
     "language": "python",
     "metadata": {},
     "outputs": [],
     "prompt_number": null
    },
    {
     "cell_type": "code",
     "collapsed": false,
     "input": [
      "HTML(html)"
     ],
     "language": "python",
     "metadata": {},
     "outputs": [],
     "prompt_number": null
    }
   ],
   "metadata": {}
  }
 ]
}