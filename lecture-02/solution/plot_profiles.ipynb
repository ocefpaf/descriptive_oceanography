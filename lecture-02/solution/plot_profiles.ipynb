{
 "metadata": {
  "name": ""
 },
 "nbformat": 3,
 "nbformat_minor": 0,
 "worksheets": [
  {
   "cells": [
    {
     "cell_type": "code",
     "collapsed": false,
     "input": [
      "from IPython.core.display import HTML\n",
      "\n",
      "html = \"\"\"<a rel=\"license\" href=\"http://creativecommons.org/licenses/by-nc-sa/3.0/deed.en_US\"><img alt=\"Creative Commons License\"\n",
      "style=\"border-width:0\" src=\"http://i.creativecommons.org/l/by-nc-sa/3.0/88x31.png\" /></a><br />\n",
      "<span xmlns:dct=\"http://purl.org/dc/terms/\" href=\"http://purl.org/dc/dcmitype/Dataset\" property=\"dct:title\" rel=\"dct:type\">\n",
      "\"Aulas de Ondas e mar\u00e9s\"</span> by <a xmlns:cc=\"http://creativecommons.org/ns#\" href=\"http://ocefpaf.github.io/\"\n",
      "property=\"cc:attributionName\" rel=\"cc:attributionURL\">Filipe Fernandes</a> is licensed under a <a rel=\"license\"\n",
      "href=\"http://creativecommons.org/licenses/by-nc-sa/3.0/deed.en_US\">\n",
      "Creative Commons Attribution-NonCommercial-ShareAlike 3.0 Unported License</a>.<br />\n",
      "Based on a work at <a xmlns:dct=\"http://purl.org/dc/terms/\" href=\"http://ocefpaf.github.io/\"\n",
      "rel=\"dct:source\">http://ocefpaf.github.io/</a>.\"\"\"\n",
      "\n",
      "def css_styling():\n",
      "    styles = open(\"../../common/custom.css\", \"r\").read()\n",
      "    return HTML(styles)\n",
      "css_styling()"
     ],
     "language": "python",
     "metadata": {},
     "outputs": []
    },
    {
     "cell_type": "markdown",
     "metadata": {},
     "source": [
      "Exemplo de ler e plotar os dados do exerc\u00edcio 02"
     ]
    },
    {
     "cell_type": "code",
     "collapsed": false,
     "input": [
      "from pandas import read_csv\n",
      "import matplotlib.pyplot as plt\n",
      "from mpltools import style\n",
      "style.use( 'dark_background')"
     ],
     "language": "python",
     "metadata": {},
     "outputs": []
    },
    {
     "cell_type": "code",
     "collapsed": false,
     "input": [
      "lon, lat = -(70. + 59.59 / 60.), 36. + 40.03 / 60.\n",
      "st61 = read_csv('Endeavor_Cruise-88_Station-61.csv', comment='#', header=5, index_col=0)"
     ],
     "language": "python",
     "metadata": {},
     "outputs": []
    },
    {
     "cell_type": "code",
     "collapsed": false,
     "input": [
      "print(st61.head(5))"
     ],
     "language": "python",
     "metadata": {},
     "outputs": []
    },
    {
     "cell_type": "code",
     "collapsed": false,
     "input": [
      "kw = dict(linewidth=2, color='#FF6600')\n",
      "fig, (ax0, ax1) = plt.subplots(ncols=2, sharey=True, figsize=(10, 6))\n",
      "ax0.plot(st61['t'], st61.index, **kw)\n",
      "ax0.set_ylabel(u\"Press\u00e3o [dbar]\")\n",
      "ax0.set_xlabel(u\"Temperatura [\u00b0C]\")\n",
      "ax0.grid()\n",
      "ax0.invert_yaxis()\n",
      "\n",
      "ax1.plot(st61['S'], st61.index, **kw)\n",
      "ax1.set_xlabel(r\"Salinidade [g kg$^{-1}$]\")\n",
      "ax1.grid()"
     ],
     "language": "python",
     "metadata": {},
     "outputs": []
    },
    {
     "cell_type": "code",
     "collapsed": false,
     "input": [
      "HTML(html)"
     ],
     "language": "python",
     "metadata": {},
     "outputs": []
    },
    {
     "cell_type": "markdown",
     "metadata": {},
     "source": [
      "Check this post at [nbviewer](http://nbviewer.ipython.org/urls/raw.github.com/ocefpaf/waves_and_tides/master/lecture-02/solution/plot_profiles.ipynb)."
     ]
    }
   ],
   "metadata": {}
  }
 ]
}