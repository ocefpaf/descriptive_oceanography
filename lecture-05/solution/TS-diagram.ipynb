{
 "metadata": {
  "name": ""
 },
 "nbformat": 3,
 "nbformat_minor": 0,
 "worksheets": [
  {
   "cells": [
    {
     "cell_type": "code",
     "collapsed": false,
     "input": [
      "from IPython.core.display import HTML\n",
      "\n",
      "with open('../../common/creativecommons.html', 'r') as f:\n",
      "    html = f.read()\n",
      "    \n",
      "with open('../../common/custom.css', 'r') as f:\n",
      "    styles = f.read()\n",
      "    \n",
      "HTML(styles)\n",
      "\n",
      "text = 'Check this post at'\n",
      "uri = 'http://nbviewer.ipython.org/urls/raw.github.com/ocefpaf/python4oceanographers/master/content/downloads/notebooks'\n",
      "name = get_notebook_name()\n",
      "link = \"\"\"<p>%s <a href=\"%s/%s\"><em>nbviewer</em>.</a></p>\"\"\" % (text, uri, name)\n",
      "html += str(link)"
     ],
     "language": "python",
     "metadata": {},
     "outputs": [],
     "prompt_number": null
    },
    {
     "cell_type": "code",
     "collapsed": false,
     "input": [
      "import numpy as np\n",
      "import seawater as sw\n",
      "import matplotlib.pyplot as plt"
     ],
     "language": "python",
     "metadata": {},
     "outputs": [],
     "prompt_number": null
    },
    {
     "cell_type": "code",
     "collapsed": false,
     "input": [
      "L = 33.2, 2.5\n",
      "G = 35.0, 12.5\n",
      "M = (L[0] + G[0]) * 0.5, (L[1] + G[1]) * 0.5\n",
      "line = sw.dens0(M[0], M[1]) - 1000"
     ],
     "language": "python",
     "metadata": {},
     "outputs": [],
     "prompt_number": null
    },
    {
     "cell_type": "code",
     "collapsed": false,
     "input": [
      "t = np.arange(0, 15 + 1, 1)\n",
      "s = np.arange(32.5, 35 + 0.1, 0.1)\n",
      "\n",
      "S, T = np.meshgrid(s, t)\n",
      "sigma_theta = sw.dens0(S, T) - 1000\n",
      "levels = [24.5, 25, 26, 26.5, 27, 27.5, 28]"
     ],
     "language": "python",
     "metadata": {},
     "outputs": [],
     "prompt_number": null
    },
    {
     "cell_type": "code",
     "collapsed": false,
     "input": [
      "from matplotlib import rcParams\n",
      "from matplotlib.ticker import MultipleLocator\n",
      "rcParams['xtick.direction'] = 'out'\n",
      "rcParams['ytick.direction'] = 'out'\n",
      "fig, ax = plt.subplots(figsize=(6, 4))\n",
      "ax.xaxis.set_major_locator(MultipleLocator(0.5))\n",
      "ax.xaxis.set_minor_locator(MultipleLocator(0.1))\n",
      "ax.yaxis.set_major_locator(MultipleLocator(5))\n",
      "ax.yaxis.set_minor_locator(MultipleLocator(1))\n",
      "ax.set_ylabel(u\"Temperatura \\u00b0C\")\n",
      "ax.set_xlabel(r\"Salinidade [g kg$^{-1}$]\")\n",
      "ax.axis([32.5, 35, 0, 15])\n",
      "\n",
      "cs = ax.contour(s, t, sigma_theta, colors='black', levels=levels)\n",
      "ax.clabel(cs, fontsize=9, inline=1, fmt='%2.1f')\n",
      "sg = ax.contour(s, t, sigma_theta, linestyle='--', colors='grey', levels=[0, line])\n",
      "ax.clabel(sg, fontsize=9, inline=1, fmt='%2.1f')\n",
      "ax.plot(L[0], L[1], 'ko')\n",
      "ax.plot(G[0], G[1], 'ko')\n",
      "ax.plot(M[0], M[1], 'ro')\n",
      "xoffset, yoffset = 0.08, 0.5\n",
      "ax.text(L[0] + xoffset, L[1] - yoffset, 'L')\n",
      "ax.text(G[0] - xoffset, G[1] + yoffset, 'G')\n",
      "ax.text(M[0] + xoffset, M[1] - yoffset, 'M')\n",
      "fig.savefig(\"Diagrama-TS.pdf\", dpi=150)"
     ],
     "language": "python",
     "metadata": {},
     "outputs": [],
     "prompt_number": null
    },
    {
     "cell_type": "markdown",
     "metadata": {},
     "source": [
      "[Mixing](http://oceanworld.tamu.edu/resources/ocng_textbook/chapter13/chapter13_03.htm) of two water types of the same density (L and G) produces water that is denser (M) than either water type. From Tolmazin (1985)."
     ]
    },
    {
     "cell_type": "code",
     "collapsed": false,
     "input": [
      "HTML(html)"
     ],
     "language": "python",
     "metadata": {},
     "outputs": [],
     "prompt_number": null
    }
   ],
   "metadata": {}
  }
 ]
}