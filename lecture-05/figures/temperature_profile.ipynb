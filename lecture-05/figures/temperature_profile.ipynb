{
 "metadata": {
  "name": "",
  "signature": "sha256:5c8921d0e5041ec30d59add197e7bf159688042b607510ab106d2ac6fdd53a6e"
 },
 "nbformat": 3,
 "nbformat_minor": 0,
 "worksheets": [
  {
   "cells": [
    {
     "cell_type": "code",
     "collapsed": false,
     "input": [
      "from IPython.core.display import HTML\n",
      "\n",
      "with open('../../common/creativecommons.html', 'r') as f:\n",
      "    html = f.read()\n",
      "    \n",
      "with open('../../common/custom.css', 'r') as f:\n",
      "    styles = f.read()\n",
      "    \n",
      "HTML(styles)\n",
      "\n",
      "text = 'Check this post at'\n",
      "uri = 'http://nbviewer.ipython.org/urls/raw.github.com/ocefpaf/python4oceanographers/master/content/downloads/notebooks'\n",
      "name = 'temperature_profile'\n",
      "link = \"\"\"<p>%s <a href=\"%s/%s\"><em>nbviewer</em>.</a></p>\"\"\" % (text, uri, name)\n",
      "html += str(link)"
     ],
     "language": "python",
     "metadata": {},
     "outputs": []
    },
    {
     "cell_type": "code",
     "collapsed": false,
     "input": [
      "import os\n",
      "import numpy as np\n",
      "import matplotlib.pyplot as plt"
     ],
     "language": "python",
     "metadata": {},
     "outputs": []
    },
    {
     "cell_type": "code",
     "collapsed": false,
     "input": [
      "dz = 1\n",
      "mld = 200\n",
      "z = np.arange(0, 4e3+dz, dz)\n",
      "surface = 25"
     ],
     "language": "python",
     "metadata": {},
     "outputs": []
    },
    {
     "cell_type": "markdown",
     "metadata": {},
     "source": [
      "$t = t_{\\text{surface}} az^{b}$"
     ]
    },
    {
     "cell_type": "code",
     "collapsed": false,
     "input": [
      "a, b = 115, -0.9\n",
      "t_mld = [surface] * len(z[:mld])\n",
      "t_termocline = surface * a * z[mld:]**b\n",
      "\n",
      "t = np.r_[t_mld, t_termocline]"
     ],
     "language": "python",
     "metadata": {},
     "outputs": []
    },
    {
     "cell_type": "code",
     "collapsed": false,
     "input": [
      "xmin, xmax = 0, 26\n",
      "fig, ax = plt.subplots(figsize=(6, 8))\n",
      "ax.invert_yaxis()\n",
      "ax.plot(t, z, linewidth=2, zorder=1)\n",
      "ax.set_xlim(xmin, xmax)\n",
      "ax.set_ylim(z.max(), -100)\n",
      "ax.set_xlabel(u'Temperatura [\\u00B0C]')\n",
      "ax.set_ylabel('Profundidade [m]')\n",
      "\n",
      "kw = dict(colors='w', zorder=2)\n",
      "ax.hlines(mld, xmin, xmax, linestyles='--', **kw)\n",
      "ax.hlines(1000, xmin, xmax, linestyles='--', **kw)\n",
      "\n",
      "kw = dict(va='center', ha='center', fontweight='semibold')\n",
      "ax.text(12.5, 0, 'Camada de Mistura', **kw)\n",
      "ax.text(12.5, 750, 'Termoclina', **kw)\n",
      "ax.text(12.5, 1500, 'Camada profunda', **kw)\n",
      "ax.grid(False)"
     ],
     "language": "python",
     "metadata": {},
     "outputs": []
    },
    {
     "cell_type": "code",
     "collapsed": false,
     "input": [
      "fname = \"temperature_profile.png\"\n",
      "fig.savefig(fname, transparent=False)\n",
      "_ = os.system('convert -trim %s %s' % (fname, fname))"
     ],
     "language": "python",
     "metadata": {},
     "outputs": []
    },
    {
     "cell_type": "code",
     "collapsed": false,
     "input": [
      "HTML(html)"
     ],
     "language": "python",
     "metadata": {},
     "outputs": []
    }
   ],
   "metadata": {}
  }
 ]
}