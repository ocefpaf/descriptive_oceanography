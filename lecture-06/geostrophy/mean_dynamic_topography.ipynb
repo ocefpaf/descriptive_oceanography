{
 "metadata": {
  "name": ""
 },
 "nbformat": 3,
 "nbformat_minor": 0,
 "worksheets": [
  {
   "cells": [
    {
     "cell_type": "code",
     "collapsed": false,
     "input": [
      "from IPython.core.display import HTML\n",
      "\n",
      "with open('../../common/creativecommons.html', 'r') as f:\n",
      "    html = f.read()\n",
      "    \n",
      "with open('../../common/custom.css', 'r') as f:\n",
      "    styles = f.read()\n",
      "    \n",
      "HTML(styles)\n",
      "\n",
      "text = 'Check this post at'\n",
      "uri = 'http://nbviewer.ipython.org/urls/raw.github.com/ocefpaf/python4oceanographers/master/content/downloads/notebooks'\n",
      "name = get_notebook_name()\n",
      "link = \"\"\"<p>%s <a href=\"%s/%s\"><em>nbviewer</em>.</a></p>\"\"\" % (text, uri, name)\n",
      "html += str(link)"
     ],
     "language": "python",
     "metadata": {},
     "outputs": []
    },
    {
     "cell_type": "markdown",
     "metadata": {},
     "source": [
      "# Explorar dados de altura din\u00e2mica m\u00e9dia calculando a corrente geostr\u00f3fica usando a inclina\u00e7\u00e3o da superf\u00edcie livre."
     ]
    },
    {
     "cell_type": "markdown",
     "metadata": {},
     "source": [
      "## Notebook para calcular a corrente geostr\u00f3fica entre dois pontos usando o os dados de *Mean Dynamic Height* do arquivo `mdt_cnes_cls2009_global_v1.1.nc`."
     ]
    },
    {
     "cell_type": "markdown",
     "metadata": {},
     "source": [
      "O arquivo [mdt_cnes_cls2009_global_v1.1.nc](http://www.aviso.oceanobs.com/en/data/products/auxiliary-products.html)\\* consiste de uma grade global de Altura Din\u00e2mica M\u00e9dia.  Esse conjunto de dados foi criado pelo do grupo [AVISO](http://www.aviso.oceanobs.com/en/altimetry.html).\n",
      "\n",
      "\\* Apesar de ser gratu\u00edto \u00e9 necess\u00e1rio fazer um pedido atrav\u00e9s do formul\u00e1rio online explicando como os dados ser\u00e3o utilizados."
     ]
    },
    {
     "cell_type": "markdown",
     "metadata": {},
     "source": [
      "### Imports."
     ]
    },
    {
     "cell_type": "markdown",
     "metadata": {},
     "source": [
      "Nas c\u00e9lulas abaixo vamos importar os m\u00f3dulos/fun\u00e7\u00f5es que utilizaremos.  Come\u00e7ando com [NumPy](http://www.numpy.org/) e [Matplolib](http://matplotlib.org/) que s\u00e3o os nosso pacotes `default` para trabalhar com m *arrays* e plotagem."
     ]
    },
    {
     "cell_type": "code",
     "collapsed": false,
     "input": [
      "import numpy as np\n",
      "import matplotlib.pyplot as plt"
     ],
     "language": "python",
     "metadata": {},
     "outputs": []
    },
    {
     "cell_type": "markdown",
     "metadata": {},
     "source": [
      "Agora vamos import os pacotes [iris](http://scitools.org.uk/iris/index.html) e [cartopy](http://scitools.org.uk/cartopy/), ambos desenvolvidos pelo **UK Met Office** e extremamente \u00fateis para carregar, plotar e manipular dados oceanogr\u00e1ficos em diversos formatos."
     ]
    },
    {
     "cell_type": "code",
     "collapsed": false,
     "input": [
      "import iris\n",
      "import iris.plot as iplt\n",
      "import cartopy.crs as ccrs\n",
      "import cartopy.feature as cfeature\n",
      "from cartopy.mpl.gridliner import LONGITUDE_FORMATTER, LATITUDE_FORMATTER"
     ],
     "language": "python",
     "metadata": {},
     "outputs": []
    },
    {
     "cell_type": "markdown",
     "metadata": {},
     "source": [
      "Abaixo importamos o m\u00f3dulo [brewer2mpl](https://github.com/jiffyclub/brewer2mpl/wiki) que nos permite criar e utilizar **colormaps** usando a excelente ferramenta [colorbrewer2](http://colorbrewer2.org/)."
     ]
    },
    {
     "cell_type": "code",
     "collapsed": false,
     "input": [
      "from brewer2mpl import brewer2mpl\n",
      "cmap = brewer2mpl.get_map('RdYlGn', 'diverging', 11, reverse=True).mpl_colormap"
     ],
     "language": "python",
     "metadata": {},
     "outputs": []
    },
    {
     "cell_type": "markdown",
     "metadata": {},
     "source": [
      "Agora importamos as fun\u00e7\u00f5es de `wrap angles` para converter os \u00e2ngulos de longitude do formato -180--180 para 0--360 e vice versa.  Importamos tamb\u00e9m as fun\u00e7\u00f5es para decompor `velocidade` e `dire\u00e7\u00e3o` em suas componentes *`u`* e *`v`* e uma para alisar os dados."
     ]
    },
    {
     "cell_type": "code",
     "collapsed": false,
     "input": [
      "from oceans.ff_tools import wrap_lon360, wrap_lon180\n",
      "from oceans.ff_tools.ocfis import uv2spdir, spdir2uv, smoo1"
     ],
     "language": "python",
     "metadata": {},
     "outputs": []
    },
    {
     "cell_type": "markdown",
     "metadata": {},
     "source": [
      "Vamos precisar tamb\u00e9m do m\u00f3dulo seawater EOS-80, mas utilizaremos apenas os c\u00e1lculos do par\u00e2metro de `Coriolis` (*sw.f*), `gravidade` (*sw.g*), e `dist\u00e2ncia` (*sw.dist*)."
     ]
    },
    {
     "cell_type": "code",
     "collapsed": false,
     "input": [
      "import seawater as sw"
     ],
     "language": "python",
     "metadata": {},
     "outputs": []
    },
    {
     "cell_type": "markdown",
     "metadata": {},
     "source": [
      "Por \u00faltimo, mas n\u00e3o menos importante, vamos importar o sub-m\u00f3dulo `KDTree` do m\u00f3dulo `scipy`.  Esse algor\u00edtimo nos permite encontrar rapidamento pontos pr\u00f3ximos uns dos outros.  Utilizaremos ele para achar os dados mais pr\u00f3ximos de onde clicarmos com o mouse."
     ]
    },
    {
     "cell_type": "code",
     "collapsed": false,
     "input": [
      "from scipy.spatial import KDTree"
     ],
     "language": "python",
     "metadata": {},
     "outputs": []
    },
    {
     "cell_type": "markdown",
     "metadata": {},
     "source": [
      "### Defini\u00e7\u00e3o das fun\u00e7\u00f5es."
     ]
    },
    {
     "cell_type": "markdown",
     "metadata": {},
     "source": [
      "Primeiro vamos definir uma fun\u00e7\u00e3o para calcular a velocidade geostr\u00f3fica em fun\u00e7\u00e3o da inclina\u00e7\u00e3o do n\u00edvel do mar de acordo com a [equa\u00e7\u00e3o](http://oceanworld.tamu.edu/resources/ocng_textbook/chapter10/chapter10_03.htm):\n",
      "$$v = i_x \\frac{g}{f}$$"
     ]
    },
    {
     "cell_type": "code",
     "collapsed": false,
     "input": [
      "def geostrophic_current(ix, lat):\n",
      "    g = sw.g(lat.mean())\n",
      "    f = sw.f(lat.mean())\n",
      "    v = ix * g / f\n",
      "    return v"
     ],
     "language": "python",
     "metadata": {},
     "outputs": []
    },
    {
     "cell_type": "markdown",
     "metadata": {},
     "source": [
      "Agora vamos definir algumas fun\u00e7\u00f5es que v\u00e3o ajudar a plotar os dados e extrair a informa\u00e7\u00f5es que precisamos para aplicar a equa\u00e7\u00e3o acima."
     ]
    },
    {
     "cell_type": "code",
     "collapsed": false,
     "input": [
      "def fix_axis(lims, p=0.1):\n",
      "    \"\"\"Ajusta eixos + ou - p dos dados par exibir melhor os limites.\"\"\"\n",
      "    min = lims.min() * (1 - p) if lims.min() > 0 else lims.min() * (1 + p)\n",
      "    max = lims.max() * (1 + p) if lims.max() > 0 else lims.max() * (1 - p)\n",
      "    return min, max\n",
      "\n",
      "\n",
      "def plot_mdt(mdt, projection=ccrs.PlateCarree(), figsize=(12, 10)):\n",
      "    \"\"\"Plota 'Mean Dynamic Topography' no mapa global.\"\"\"\n",
      "    fig = plt.figure(figsize=figsize)\n",
      "    ax = plt.axes(projection=projection)\n",
      "    ax.add_feature(cfeature.LAND, facecolor='0.75')\n",
      "    cs = iplt.pcolormesh(mdt, cmap=cmap)\n",
      "    ax.coastlines()\n",
      "    gl = ax.gridlines(crs=ccrs.PlateCarree(), draw_labels=True, linewidth=1.5,\n",
      "                      color='gray', alpha=0.5, linestyle='--')\n",
      "    gl.xlabels_top = False\n",
      "    gl.ylabels_right = False\n",
      "    gl.xformatter = LONGITUDE_FORMATTER\n",
      "    gl.yformatter = LATITUDE_FORMATTER\n",
      "    cbar = fig.colorbar(cs, extend='both', orientation='vertical', shrink=0.6)\n",
      "    cbar.ax.set_title('[m]')\n",
      "    return fig, ax\n",
      "\n",
      "\n",
      "def get_position(fig, ax):\n",
      "    \"\"\"Escolhe dois pontos para fazer o c\u00e1lculo.\"\"\"\n",
      "    points = np.array(fig.ginput(2))\n",
      "    lon, lat = points[:, 0], points[:, 1]\n",
      "    kw = dict(marker='o', markerfacecolor='k', markeredgecolor='w',\n",
      "              linestyle='none', alpha=0.65, markersize=5)\n",
      "    ax.plot(lon, lat, transform=ccrs.Geodetic(), **kw)\n",
      "    ax.set_title('')\n",
      "    plt.draw()\n",
      "    return lon, lat\n",
      "\n",
      "\n",
      "def mid_point(arr):\n",
      "    return (arr[1:] + arr[:-1]) / 2"
     ],
     "language": "python",
     "metadata": {},
     "outputs": []
    },
    {
     "cell_type": "markdown",
     "metadata": {},
     "source": [
      "Por \u00faltimo vamos fazer a fun\u00e7\u00e3o que acha os dados na reta definida pelos pontos que escolhemos."
     ]
    },
    {
     "cell_type": "code",
     "collapsed": false,
     "input": [
      "def get_nearest(xi, yi, cube):\n",
      "    \"\"\"Encontra os dados mais pr\u00f3ximos aos pontos escolhidos.\"\"\"\n",
      "    x, y = cube.dim_coords\n",
      "    X, Y = np.meshgrid(x.points, y.points)\n",
      "    xi = wrap_lon360(xi)\n",
      "\n",
      "    tree = KDTree(zip(X.ravel(), Y.ravel()))\n",
      "    dist, indices = tree.query(np.array([xi, yi]).T)\n",
      "    indices = np.unravel_index(indices, X.shape)\n",
      "    lon = X[indices]\n",
      "    lat = Y[indices]\n",
      "\n",
      "    maskx = np.logical_and(x.points >= min(lon), x.points <= max(lon))\n",
      "    masky = np.logical_and(y.points >= min(lat), y.points <= max(lat))\n",
      "    maxnp = len(np.nonzero(maskx)[0]) + len(np.nonzero(masky)[0])\n",
      "\n",
      "    lons = np.linspace(lon[0], lon[1], maxnp)\n",
      "    lats = np.linspace(lat[0], lat[1], maxnp)\n",
      "\n",
      "    # Find all x, y, data in that line using the same KDTree obj.\n",
      "    dist, indices = tree.query(np.array([lons, lats]).T)\n",
      "    indices = np.unique(indices)\n",
      "    indices = np.unravel_index(indices, X.shape)\n",
      "\n",
      "    lons, lats = X[indices], Y[indices]\n",
      "    elvs = cube.data.T[indices]\n",
      "\n",
      "    dist, angle = sw.dist(lats, lons, 'km')\n",
      "    dist *= 1e3\n",
      "    dist = np.r_[0, dist.cumsum()]\n",
      "    return (lons, lats), (elvs, dist, angle)"
     ],
     "language": "python",
     "metadata": {},
     "outputs": []
    },
    {
     "cell_type": "markdown",
     "metadata": {},
     "source": [
      "### Carregar os dados e \"limp\u00e1-los.\""
     ]
    },
    {
     "cell_type": "code",
     "collapsed": false,
     "input": [
      "cube = iris.load_cube('mdt_cnes_cls2009_global_v1.1.nc',\n",
      "                      iris.Constraint('Mean Dynamic Topography'))\n",
      "print(cube)"
     ],
     "language": "python",
     "metadata": {},
     "outputs": []
    },
    {
     "cell_type": "code",
     "collapsed": false,
     "input": [
      "data = cube.data.filled(fill_value=np.NaN).copy()\n",
      "data[data == 9999.0] = np.NaN\n",
      "data = np.ma.masked_invalid(data)\n",
      "cube.data = data"
     ],
     "language": "python",
     "metadata": {},
     "outputs": []
    },
    {
     "cell_type": "markdown",
     "metadata": {},
     "source": [
      "Precisamos plotar os dados em uma figura `pop-up` para escolher os dois pontos onde vamos calcular a corrente geostr\u00f3fica."
     ]
    },
    {
     "cell_type": "code",
     "collapsed": false,
     "input": [
      "%pylab --no-import-all qt4"
     ],
     "language": "python",
     "metadata": {},
     "outputs": []
    },
    {
     "cell_type": "code",
     "collapsed": false,
     "input": [
      "fig, ax = plot_mdt(cube, projection=ccrs.PlateCarree(), figsize=(12, 10))\n",
      "_ = ax.set_title('Escolha dois pontos.')"
     ],
     "language": "python",
     "metadata": {},
     "outputs": []
    },
    {
     "cell_type": "markdown",
     "metadata": {},
     "source": [
      "Rode novamente a c\u00e9lula abaixo at\u00e9 escolher seus pontos e quando estiver pronto feche a figura."
     ]
    },
    {
     "cell_type": "code",
     "collapsed": false,
     "input": [
      "lon, lat = get_position(fig, ax)\n",
      "print('Longitude: %s\\nLatitude: %s' % (lon, lat))"
     ],
     "language": "python",
     "metadata": {},
     "outputs": []
    },
    {
     "cell_type": "markdown",
     "metadata": {},
     "source": [
      "Vamos voltar ao modo \"n\u00e3o pop-up\" e re-plotar a nossa figura com os pontos que escolhemos."
     ]
    },
    {
     "cell_type": "code",
     "collapsed": false,
     "input": [
      "%pylab --no-import-all inline\n",
      "fig, ax = plot_mdt(cube, projection=ccrs.PlateCarree(), figsize=(8, 6))\n",
      "kw = dict(marker='o', markerfacecolor='k', markeredgecolor='w',\n",
      "          linestyle='none', alpha=0.65, markersize=5)\n",
      "_ = ax.plot(lon, lat, transform=ccrs.PlateCarree(), **kw)"
     ],
     "language": "python",
     "metadata": {},
     "outputs": []
    },
    {
     "cell_type": "markdown",
     "metadata": {},
     "source": [
      "Os passos a seguir s\u00e3o:\n",
      "\n",
      "1. Extrair os dados em uma linha definida por esses dois pontos;\n",
      "2. Suavizamos as eleva\u00e7\u00f5es com uma janela do tipo *hanning* de 5 pontos;\n",
      "3. Calcular a inclina\u00e7\u00e3o para cada `dx`, `dy` extra\u00eddo;\n",
      "4. Calcular a corrente geostr\u00f3fica."
     ]
    },
    {
     "cell_type": "code",
     "collapsed": false,
     "input": [
      "(lons, lats), (elvs, dist, angle) = get_nearest(lon, lat, cube)\n",
      "elvs = smoo1(elvs, window_len=5, window='hanning')\n",
      "ix = np.diff(elvs) / np.diff(dist)\n",
      "v = geostrophic_current(ix, lats.mean())\n",
      "maximum = ix == ix.max()\n",
      "dist *= 1e-3  # Converte para km."
     ],
     "language": "python",
     "metadata": {},
     "outputs": []
    },
    {
     "cell_type": "markdown",
     "metadata": {},
     "source": [
      "Vamos plotar o perfil da inclina\u00e7\u00e3o marcando o local de maior gradiente/corrente."
     ]
    },
    {
     "cell_type": "code",
     "collapsed": false,
     "input": [
      "fig, ax = plt.subplots(figsize=(10, 2))\n",
      "fig.subplots_adjust(bottom=0.25)\n",
      "ax.plot(dist, elvs)\n",
      "ax.axis('tight')\n",
      "ax.set_ylabel('Height [m]')\n",
      "ax.set_xlabel('Distance [km]')\n",
      "ax.set_title('Sea Surface Slope')\n",
      "vmax = v.max() if v.max() > np.abs(v.min()) else v.min()\n",
      "symbol = r'$\\bigotimes$' if vmax > 0 else r'$\\bigodot$'\n",
      "_ = ax.text(dist[maximum], elvs[maximum], symbol, va='center', ha='center')\n",
      "\n",
      "_ = ax.annotate(r'%2.2f m s$^{-1}$' % vmax, xy=(dist[maximum], elvs[maximum]),\n",
      "                xycoords='data', xytext=(-50, 30), textcoords='offset points',\n",
      "                arrowprops=dict(arrowstyle=\"->\", alpha=0.65,\n",
      "                                connectionstyle=\"angle3,angleA=0,angleB=-90\"))"
     ],
     "language": "python",
     "metadata": {},
     "outputs": []
    },
    {
     "cell_type": "markdown",
     "metadata": {},
     "source": [
      "Podemos tamb\u00e9m plota um `stick-plot` com o perfil do jato de corrente na sec\u00e7\u00e3o que escolhemos."
     ]
    },
    {
     "cell_type": "code",
     "collapsed": false,
     "input": [
      "fig, ax = plt.subplots(figsize=(6, 6))\n",
      "ax.set_title('Jet profile')\n",
      "ax.set_xlabel('Distance [m]')\n",
      "ax.set_ylabel(r'Velocity [m $^{-1}$]')\n",
      "xm = mid_point(dist)\n",
      "kw = dict(scale_units='xy', angles='xy', scale=1)\n",
      "qk = ax.quiver(xm, [0]*len(xm), [0]*len(v), v, **kw)\n",
      "_ = ax.set_ylim(fix_axis(v))\n",
      "_ = ax.set_xlim(fix_axis(xm))"
     ],
     "language": "python",
     "metadata": {},
     "outputs": []
    },
    {
     "cell_type": "markdown",
     "metadata": {},
     "source": [
      "Vamos rodar as corrente calculadas para plotar elas no mapa. (# FIXME!)"
     ]
    },
    {
     "cell_type": "code",
     "collapsed": false,
     "input": [
      "rot = angle.mean()\n",
      "ang, spd = uv2spdir(0, v, rot=rot)\n",
      "ui, vi = spdir2uv(spd, ang, deg=False)"
     ],
     "language": "python",
     "metadata": {},
     "outputs": []
    },
    {
     "cell_type": "markdown",
     "metadata": {},
     "source": [
      "Podemos carregar apenas os dados nas proximidades da reta para agilizar a nossa figura."
     ]
    },
    {
     "cell_type": "code",
     "collapsed": false,
     "input": [
      "dx = dy = 10\n",
      "lon = wrap_lon360(lon)\n",
      "xmin, xmax = map(int, [lon[0]-dx, lon[1]+dx])\n",
      "ymin, ymax = map(int, (lat[0]-dy, lat[1]+dy))\n",
      "coord_values={'latitude':lambda cell: ymin <= cell <= ymax,\n",
      "              'longitude': lambda cell: xmin <= cell <= xmax}\n",
      "cube = iris.load_cube('mdt_cnes_cls2009_global_v1.1.nc',\n",
      "                      iris.Constraint(name='Mean Dynamic Topography', coord_values=coord_values))"
     ],
     "language": "python",
     "metadata": {},
     "outputs": []
    },
    {
     "cell_type": "markdown",
     "metadata": {},
     "source": [
      "E finalmente, uma figura com a corrente sobreposta a **MDT**."
     ]
    },
    {
     "cell_type": "code",
     "collapsed": false,
     "input": [
      "fig, ax = plot_mdt(cube, projection=ccrs.PlateCarree(), figsize=(10, 10))\n",
      "\n",
      "kw = dict(marker='o', markeredgecolor='w', linestyle='none', alpha=0.65, markersize=5)\n",
      "ax.plot(lons, lats, transform=ccrs.PlateCarree(), markerfacecolor='r', **kw)\n",
      "x, y = map(mid_point, (lons, lats))\n",
      "kw = dict(color='k', units='inches', alpha=0.65)\n",
      "Q = ax.quiver(x, y, ui, vi, transform=ccrs.PlateCarree(), **kw)\n",
      "ax.axis([wrap_lon180(xmin), wrap_lon180(xmax), ymin, ymax])\n",
      "qk = quiverkey(Q, 0.5, 0.05, 0.5, r'0.5 m s${-1}$', fontproperties={'weight': 'bold'})"
     ],
     "language": "python",
     "metadata": {},
     "outputs": []
    },
    {
     "cell_type": "code",
     "collapsed": false,
     "input": [
      "HTML(html)"
     ],
     "language": "python",
     "metadata": {},
     "outputs": []
    }
   ],
   "metadata": {}
  }
 ]
}