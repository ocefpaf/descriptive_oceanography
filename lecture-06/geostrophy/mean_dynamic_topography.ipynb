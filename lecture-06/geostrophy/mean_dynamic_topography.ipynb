{
 "metadata": {
  "name": ""
 },
 "nbformat": 3,
 "nbformat_minor": 0,
 "worksheets": [
  {
   "cells": [
    {
     "cell_type": "markdown",
     "metadata": {},
     "source": [
      "Notebook para calcular a corrente geostr\u00f3fica entre dois pontos usando o os dados de *Mean Dynamic Height* do arquivo `mdt_cnes_cls2009_global_v1.1.nc`.\n",
      "\n",
      "Esse arquivo pode ser baixado do site do grupo [AVISO](http://www.aviso.oceanobs.com/en/altimetry.html)."
     ]
    },
    {
     "cell_type": "code",
     "collapsed": false,
     "input": [
      "import gsw  # Para calcular o par\u00e2metro de Coriols (f) e a dist\u00e2ncia em metros a partir de longitude e latitude.\n",
      "import numpy as np  # Pacote num\u00e9rico NumPy.\n",
      "import iris.plot as iplt  # Plotagem mais f\u00e1cil com o `iris interactive plotting`.\n",
      "import cartopy.crs as ccrs  # Cartopy para proje\u00e7\u00e3o geogr\u00e1fica.\n",
      "import matplotlib.pyplot as plt  # Matplotlib para plotagem.\n",
      "import cartopy.feature as cfeature  # Parte do cartopy para colocar m\u00e1scara de terra.\n",
      "from iris.fileformats.netcdf import load_cubes  # Fun\u00e7\u00e3o do iris que carrega os dados `netcdf`.\n",
      "# Duas fun\u00e7\u00f5es de ajuda `get_profile` para achar os pontos mais pr\u00f3ximos de onde clicarmos, e\n",
      "# `wrap_lon360` para converter longitude de -180--180 para 0--360.\n",
      "from oceans.ff_tools import get_profile, wrap_lon360"
     ],
     "language": "python",
     "metadata": {},
     "outputs": []
    },
    {
     "cell_type": "markdown",
     "metadata": {},
     "source": [
      "Primeiro vamos definir uma fun\u00e7\u00e3o para calcular a velocidade geostr\u00f3fica em fun\u00e7\u00e3o da inclina\u00e7\u00e3o do n\u00edvel do mar de acordo com a equa\u00e7\u00e3o:\n",
      "$$v = i_x \\frac{g}{f}$$\n",
      "Para maiores informa\u00e7\u00f5es leia:\n",
      "http://oceanworld.tamu.edu/resources/ocng_textbook/chapter10/chapter10_03.htm"
     ]
    },
    {
     "cell_type": "code",
     "collapsed": false,
     "input": [
      "def geostrophic_current(ix, lat):\n",
      "    g = gsw.grav(lat.mean(), p=0)\n",
      "    f = gsw.f(lat.mean())\n",
      "    v = ix * g / f\n",
      "    return v"
     ],
     "language": "python",
     "metadata": {},
     "outputs": []
    },
    {
     "cell_type": "markdown",
     "metadata": {},
     "source": [
      "Agora vamos definir algumas fun\u00e7\u00f5es que v\u00e3o ajudar a plotar os dados e extrair a informa\u00e7\u00f5es que precisamos para aplicar a equa\u00e7\u00e3o acima."
     ]
    },
    {
     "cell_type": "code",
     "collapsed": false,
     "input": [
      "def fix_axis(lims):\n",
      "    \"\"\"Ajusta eixos + ou - 10% dos dados par exibir melhor os limites.\"\"\"\n",
      "    min = lims.min() * 0.9 if lims.min() > 0 else lims.min() * 1.1\n",
      "    max = lims.max() * 1.1 if lims.max() > 0 else lims.max() * 0.9\n",
      "    return min, max\n",
      "\n",
      "\n",
      "def plot_mdt(mdt, projection=ccrs.PlateCarree(), figsize=(12, 10)):\n",
      "    \"\"\"Plota Mean Dymanic Topography no mapa global.\"\"\"\n",
      "    fig = plt.figure(figsize=figsize)\n",
      "    ax = plt.axes(projection=projection)\n",
      "    ax.add_feature(cfeature.LAND, facecolor='0.75')\n",
      "    cs = iplt.pcolormesh(mdt)\n",
      "    ax.coastlines()\n",
      "    ax.gridlines()\n",
      "    dx, dy = 40, 20\n",
      "    ax.set_xticks(range(-180, 180+dx, dx))\n",
      "    ax.set_yticks(range(-90, 90+dy, dy))\n",
      "    kw = dict(extend='both', orientation='horizontal', shrink=0.6)\n",
      "    cbar = fig.colorbar(cs, **kw)\n",
      "    cbar.ax.set_xlabel('[m]')\n",
      "    return fig, ax\n",
      "\n",
      "\n",
      "def get_position(fig, ax):\n",
      "    \"\"\"Escolhe dois pontos para fazer o c\u00e1lculo.\"\"\"\n",
      "\n",
      "    points = np.array(fig.ginput(2))\n",
      "    lon, lat = points[:, 0], points[:, 1]\n",
      "    print('Longitude: %s\\nLatitude: %s' % (lon, lat))\n",
      "\n",
      "    kw = dict(marker='o', markerfacecolor='k', markeredgecolor='w',\n",
      "              linestyle='none', alpha=0.65, markersize=5)\n",
      "    ax.plot(lon, lat, transform=ccrs.Geodetic(), **kw)\n",
      "    ax.set_title('')\n",
      "    plt.draw()\n",
      "    return lon, lat\n",
      "\n",
      "def get_nearest(xi, yi):\n",
      "    \"\"\"Encontra os dados mais pr\u00f3ximos aos pontos escolhidos.\"\"\"\n",
      "    # Data coordinates grid.\n",
      "    x, y = cubes['Mean Dynamic Topography'].dim_coords\n",
      "    X, Y = np.meshgrid(x.points, y.points)\n",
      "\n",
      "    # Nearest data points.\n",
      "    xi = wrap_lon360(xi)\n",
      "    lon = get_profile(X, Y, X, xi, yi, order=0)\n",
      "    lat = get_profile(X, Y, Y, xi, yi, order=0)\n",
      "\n",
      "    # Vector with data resolution to get all data in a line defined by the\n",
      "    # two chosen points.\n",
      "    dx = dy = 0.25\n",
      "    if lon[0] < lon[1]:\n",
      "        lons = np.arange(lon[0], lon[1] + dx, dx)\n",
      "    else:\n",
      "        lons = np.arange(lon[0], lon[1] - dx, -dx)\n",
      "    if lat[0] < lat[1]:\n",
      "        lats = np.arange(lat[0], lat[1] + dy, dy)\n",
      "    else:\n",
      "        lats = np.arange(lat[0], lat[1] - dy, -dy)\n",
      "\n",
      "    # Cut longest vector to the length of the shortest.\n",
      "    if len(lons) > len(lats):\n",
      "        lons = lons[:len(lats)]\n",
      "    else:\n",
      "        lats = lats[:len(lons)]\n",
      "\n",
      "    elvs = get_profile(X, Y, cubes['Mean Dynamic Topography'].data.T, lons, lats, order=0)\n",
      "    dist = gsw.distance(lons, lats, p=0)[0]\n",
      "    dist = np.r_[0, dist.cumsum()]\n",
      "\n",
      "    return (lons, lats), (elvs, dist)"
     ],
     "language": "python",
     "metadata": {},
     "outputs": []
    },
    {
     "cell_type": "markdown",
     "metadata": {},
     "source": [
      "Agora vamos carregar os dados e \"limp\u00e1-los\" um pouco."
     ]
    },
    {
     "cell_type": "code",
     "collapsed": false,
     "input": [
      "cubes = dict()\n",
      "for cube in load_cubes('mdt_cnes_cls2009_global_v1.1.nc'):\n",
      "    cubes.update({cube.long_name: cube})\n",
      "\n",
      "cubes.keys()"
     ],
     "language": "python",
     "metadata": {},
     "outputs": []
    },
    {
     "cell_type": "code",
     "collapsed": false,
     "input": [
      "# Data clean-up.\n",
      "data = cubes['Mean Dynamic Topography'].data.filled(fill_value=np.NaN).copy()\n",
      "data[data == 9999.0] = np.NaN\n",
      "data = np.ma.masked_invalid(data)\n",
      "cubes['Mean Dynamic Topography'].data = data\n",
      "\n",
      "print(cubes['Mean Dynamic Topography'])"
     ],
     "language": "python",
     "metadata": {},
     "outputs": []
    },
    {
     "cell_type": "markdown",
     "metadata": {},
     "source": [
      "Agora vamos plotar os dados em uma figura `pop-up` e escolher os dois pontos onde vamos calcular a corrente geostr\u00f3fica."
     ]
    },
    {
     "cell_type": "code",
     "collapsed": false,
     "input": [
      "%pylab tk\n",
      "fig, ax = plot_mdt(cubes['Mean Dynamic Topography'], projection=ccrs.PlateCarree(), figsize=(12, 10))\n",
      "ax.set_title('Escolha dois pontos.')"
     ],
     "language": "python",
     "metadata": {},
     "outputs": []
    },
    {
     "cell_type": "markdown",
     "metadata": {},
     "source": [
      "Rode novamente a c\u00e9lula abaixo at\u00e9 escolher seus pontos e quando estiver pronto feche a figura."
     ]
    },
    {
     "cell_type": "code",
     "collapsed": false,
     "input": [
      "lon, lat = get_position(fig, ax)"
     ],
     "language": "python",
     "metadata": {},
     "outputs": []
    },
    {
     "cell_type": "markdown",
     "metadata": {},
     "source": [
      "Vamos voltar ao modo \"n\u00e3o pop-up\" e re-plotar a nossa figura com os pontos que escolhemos."
     ]
    },
    {
     "cell_type": "code",
     "collapsed": false,
     "input": [
      "%pylab inline\n",
      "fig, ax = plot_mdt(cubes['Mean Dynamic Topography'], projection=ccrs.PlateCarree(), figsize=(8, 6))\n",
      "kw = dict(marker='o', markerfacecolor='k', markeredgecolor='w',\n",
      "          linestyle='none', alpha=0.65, markersize=5)\n",
      "ax.plot(lon, lat, transform=ccrs.Geodetic(), **kw)"
     ],
     "language": "python",
     "metadata": {},
     "outputs": []
    },
    {
     "cell_type": "markdown",
     "metadata": {},
     "source": [
      "Os passos a seguir s\u00e3o:\n",
      "\n",
      "1. Extrair os dados em uma linha definida por esses dois pontos;\n",
      "2. Calcular a inclina\u00e7\u00e3o para cada `dx`, `dy` extra\u00eddo;\n",
      "3. Calcular a corrente geostr\u00f3fica."
     ]
    },
    {
     "cell_type": "code",
     "collapsed": false,
     "input": [
      "(lons, lats), (elvs, dist) = get_nearest(lon, lat)\n",
      "ix = np.diff(elvs) / np.diff(dist)\n",
      "v = geostrophic_current(ix, lats.mean())\n",
      "maximum = ix == ix.max()\n",
      "dist *= 1e-3  # Converte para km para plotar."
     ],
     "language": "python",
     "metadata": {},
     "outputs": []
    },
    {
     "cell_type": "code",
     "collapsed": false,
     "input": [
      "fig, ax = plt.subplots(figsize=(10, 2))\n",
      "fig.subplots_adjust(bottom=0.25)\n",
      "ax.plot(dist, elvs)\n",
      "ax.axis('tight')\n",
      "ax.set_ylabel('Height [m]')\n",
      "ax.set_xlabel('Distance [km]')\n",
      "ax.set_title('Sea Surface Slope')\n",
      "vmax = v.min() if np.abs(v.min()) > v.max() else v.max()\n",
      "ax.text(dist[maximum] * 1.1, elvs[maximum], r'%2.2f m s$^{-1}$' % vmax)\n",
      "text = r'$\\bigotimes$' if vmax > 0 else r'$\\bigodot$'\n",
      "ax.text(dist[maximum], elvs[maximum], text)"
     ],
     "language": "python",
     "metadata": {},
     "outputs": []
    },
    {
     "cell_type": "code",
     "collapsed": false,
     "input": [
      "fig, ax = plt.subplots(figsize=(6, 6))\n",
      "ax.set_title('Jet profile')\n",
      "ax.set_xlabel('Distance [m]')\n",
      "ax.set_ylabel(r'Velocity [m $^{-1}$]')\n",
      "xm = (dist[1:] + dist[:-1]) / 2\n",
      "xm *= 1e-3\n",
      "kw = dict(scale_units='xy', angles='xy', scale=1)\n",
      "qk = ax.quiver(xm, [0]*len(xm), [0]*len(v), v, **kw)\n",
      "_ = ax.set_ylim(fix_axis(v))\n",
      "_ = ax.set_xlim(fix_axis(xm))"
     ],
     "language": "python",
     "metadata": {},
     "outputs": []
    }
   ],
   "metadata": {}
  }
 ]
}