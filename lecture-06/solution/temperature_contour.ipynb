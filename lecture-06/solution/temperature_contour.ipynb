{
 "metadata": {
  "name": "",
  "signature": "sha256:f65c320edeb58e24e5028ac8c953a5d108c47acb55dc54baadda91002fd6d00d"
 },
 "nbformat": 3,
 "nbformat_minor": 0,
 "worksheets": [
  {
   "cells": [
    {
     "cell_type": "code",
     "collapsed": false,
     "input": [
      "from IPython.core.display import HTML\n",
      "\n",
      "with open('../../common/creativecommons.html', 'r') as f:\n",
      "    html = f.read()\n",
      "    \n",
      "with open('../../common/custom.css', 'r') as f:\n",
      "    styles = f.read()\n",
      "    \n",
      "HTML(styles)\n",
      "\n",
      "name = \"temperature_contour\"\n",
      "text = 'Check this post at'\n",
      "url = 'http://nbviewer.ipython.org/urls/raw.github.com/'\n",
      "url += 'ocefpaf/python4oceanographers/master/content/downloads/notebooks'\n",
      "link = \"\"\"<p>%s <a href=\"%s/%s\"><em>nbviewer</em>.</a></p>\"\"\" % (text, url, name)\n",
      "html += str(link)"
     ],
     "language": "python",
     "metadata": {},
     "outputs": []
    },
    {
     "cell_type": "code",
     "collapsed": false,
     "input": [
      "%matplotlib inline\n",
      "\n",
      "import numpy as np\n",
      "import numpy.ma as ma\n",
      "import matplotlib.pyplot as plt"
     ],
     "language": "python",
     "metadata": {},
     "outputs": []
    },
    {
     "cell_type": "code",
     "collapsed": false,
     "input": [
      "depth = np.loadtxt('temp_fullset.dat', usecols=(0,))\n",
      "dist = np.arange(1, 14)  # km ?\n",
      "temp = np.loadtxt('temp_fullset.dat', usecols=range(1, 14))\n",
      "temp = ma.masked_invalid(temp)"
     ],
     "language": "python",
     "metadata": {},
     "outputs": []
    },
    {
     "cell_type": "code",
     "collapsed": false,
     "input": [
      "fig, ax = plt.subplots()\n",
      "cs = ax.contour(dist, depth, temp, colors='k')\n",
      "ax.clabel(cs, fmt='%2.1f')\n",
      "ax.invert_yaxis()\n",
      "fig.savefig(\"solution.png\")"
     ],
     "language": "python",
     "metadata": {},
     "outputs": []
    },
    {
     "cell_type": "code",
     "collapsed": false,
     "input": [
      "levels = [6.0, 6.5, 7.0, 7.5, 8.0, 8.5]\n",
      "fig, ax = plt.subplots()\n",
      "cs = ax.contour(dist, depth, temp, colors='k', levels=levels)\n",
      "ax.clabel(cs, fmt='%2.1f')\n",
      "ax.invert_yaxis()"
     ],
     "language": "python",
     "metadata": {},
     "outputs": []
    },
    {
     "cell_type": "code",
     "collapsed": false,
     "input": [
      "fig, ax = plt.subplots()\n",
      "cs = ax.contourf(dist, depth, temp)\n",
      "ax.invert_yaxis()\n",
      "_ = fig.colorbar(cs)"
     ],
     "language": "python",
     "metadata": {},
     "outputs": []
    },
    {
     "cell_type": "code",
     "collapsed": false,
     "input": [
      "fig, ax = plt.subplots()\n",
      "cs = ax.pcolormesh(dist, depth, temp)\n",
      "ax.invert_yaxis()\n",
      "_ = fig.colorbar(cs)"
     ],
     "language": "python",
     "metadata": {},
     "outputs": []
    },
    {
     "cell_type": "code",
     "collapsed": false,
     "input": [
      "HTML(html)"
     ],
     "language": "python",
     "metadata": {},
     "outputs": []
    }
   ],
   "metadata": {}
  }
 ]
}