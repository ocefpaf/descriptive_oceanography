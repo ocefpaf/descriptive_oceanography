{
 "metadata": {
  "name": ""
 },
 "nbformat": 3,
 "nbformat_minor": 0,
 "worksheets": [
  {
   "cells": [
    {
     "cell_type": "code",
     "collapsed": false,
     "input": [
      "from IPython.core.display import HTML\n",
      "\n",
      "with open('../../common/creativecommons.html', 'r') as f:\n",
      "    html = f.read()\n",
      "    \n",
      "with open('../../common/custom.css', 'r') as f:\n",
      "    styles = f.read()\n",
      "    \n",
      "HTML(styles)\n",
      "\n",
      "name = get_notebook_name()\n",
      "text = 'Check this post at'\n",
      "url = 'http://nbviewer.ipython.org/urls/raw.github.com/'\n",
      "url += 'ocefpaf/python4oceanographers/master/content/downloads/notebooks'\n",
      "link = \"\"\"<p>%s <a href=\"%s/%s\"><em>nbviewer</em>.</a></p>\"\"\" % (text, url, name)\n",
      "html += str(link)"
     ],
     "language": "python",
     "metadata": {},
     "outputs": [],
     "prompt_number": null
    },
    {
     "cell_type": "markdown",
     "metadata": {},
     "source": [
      "### Imports and function definitions."
     ]
    },
    {
     "cell_type": "code",
     "collapsed": false,
     "input": [
      "import os\n",
      "import numpy as np\n",
      "import numpy.ma as ma\n",
      "import matplotlib.pyplot as plt\n",
      "import matplotlib.ticker as mticker"
     ],
     "language": "python",
     "metadata": {},
     "outputs": [],
     "prompt_number": null
    },
    {
     "cell_type": "code",
     "collapsed": false,
     "input": [
      "from pandas import read_hdf\n",
      "from oceans.colormaps import cm\n",
      "from oceans.RPSstuff import near\n",
      "from oceans.datasets import woa_subset\n",
      "\n",
      "\n",
      "def get_data(fname, key, depth=0):\n",
      "    data  = read_hdf(fname, key)\n",
      "    lat = data.major_axis.values.astype(float)\n",
      "    lon = data.minor_axis.values.astype(float)\n",
      "    levels = data.items.values.astype(float)\n",
      "    nearest_idx = near(depth, levels)[0]\n",
      "    nearest_depth = levels[nearest_idx]\n",
      "    data  = data[float(nearest_depth)]\n",
      "    data = ma.masked_equal(data.values, 9.969210e+36)\n",
      "    lon, lat = np.meshgrid(lon, lat)\n",
      "    return lon, lat, data"
     ],
     "language": "python",
     "metadata": {},
     "outputs": [],
     "prompt_number": null
    },
    {
     "cell_type": "code",
     "collapsed": false,
     "input": [
      "import cartopy.crs as ccrs\n",
      "import cartopy.feature as cfeature\n",
      "from cartopy.mpl.gridliner import LONGITUDE_FORMATTER, LATITUDE_FORMATTER\n",
      "\n",
      "def make_map(projection=ccrs.PlateCarree(), figsize=(10, 5),\n",
      "             resolution='110m'):\n",
      "    fig, ax = plt.subplots(figsize=figsize,\n",
      "                           subplot_kw=dict(projection=projection))\n",
      "    ax.set_global()\n",
      "    ax.coastlines(resolution=resolution, color='k')\n",
      "    ax.add_feature(cfeature.LAND, facecolor='0.75')\n",
      "    # Gridlines.\n",
      "    gl = ax.gridlines(draw_labels=True)\n",
      "    gl.xlabels_top = False\n",
      "    gl.ylabels_right = False\n",
      "    gl.xformatter = LONGITUDE_FORMATTER\n",
      "    gl.yformatter = LATITUDE_FORMATTER\n",
      "    # Work around writing longitude position twice (e.g.: 180W and 180E).\n",
      "    gl.xlocator = mticker.FixedLocator([-60, -120, -180, 120, 60, 0])\n",
      "    return fig, ax"
     ],
     "language": "python",
     "metadata": {},
     "outputs": [],
     "prompt_number": null
    },
    {
     "cell_type": "markdown",
     "metadata": {},
     "source": [
      "### Download the data."
     ]
    },
    {
     "cell_type": "code",
     "collapsed": false,
     "input": [
      "boundary = dict(llcrnrlon=0, urcrnrlon=360, llcrnrlat=-90, urcrnrlat=90)"
     ],
     "language": "python",
     "metadata": {},
     "outputs": [],
     "prompt_number": null
    },
    {
     "cell_type": "code",
     "collapsed": false,
     "input": [
      "if not os.path.isfile('woa09_salinity.h5'):\n",
      "    data = woa_subset(var='salinity', clim_type='annual',\n",
      "                         resolution='1deg', **boundary)\n",
      "    data = data['OA Climatology']['annual'].squeeze()\n",
      "    data.to_hdf('woa09_salinity.h5', 'salinity')"
     ],
     "language": "python",
     "metadata": {},
     "outputs": [],
     "prompt_number": null
    },
    {
     "cell_type": "code",
     "collapsed": false,
     "input": [
      "if not os.path.isfile('woa09_temperature.h5'):\n",
      "    data = woa_subset(var='temperature', clim_type='annual',\n",
      "                         resolution='1deg', **boundary)\n",
      "    data = data['OA Climatology']['annual']\n",
      "    data.to_hdf('woa09_temperature.h5', 'temperature')"
     ],
     "language": "python",
     "metadata": {},
     "outputs": [],
     "prompt_number": null
    },
    {
     "cell_type": "markdown",
     "metadata": {},
     "source": [
      "### Figure options."
     ]
    },
    {
     "cell_type": "code",
     "collapsed": false,
     "input": [
      "fmt = 'png'\n",
      "kfig = dict(format=fmt, transparent=True, dpi=75)\n",
      "kcbar = dict(extend='both', shrink=0.75, pad=0.02, fraction=0.1,\n",
      "             orientation='vertical')\n",
      "proj = dict(transform=ccrs.PlateCarree())\n",
      "kw = dict(colors='k', alpha=0.75, **proj)"
     ],
     "language": "python",
     "metadata": {},
     "outputs": [],
     "prompt_number": null
    },
    {
     "cell_type": "markdown",
     "metadata": {},
     "source": [
      "### Annual Salinity Climatology (surface  and 1000 m)."
     ]
    },
    {
     "cell_type": "code",
     "collapsed": false,
     "input": [
      "depth = 0.0\n",
      "\n",
      "fig, ax = make_map(projection=ccrs.PlateCarree(central_longitude=-150))\n",
      "lon, lat, data = get_data('woa09_salinity.h5', 'salinity', depth)\n",
      "levels = np.arange(27.7, 37.3, 0.3)\n",
      "cs = ax.pcolormesh(lon, lat, data, cmap=cm.odv, **proj)\n",
      "cs.set_clim(27.5, 37.5)\n",
      "cc = ax.contour(lon, lat, data, levels=levels, **kw)\n",
      "ax.clabel(cc, inline=True, fmt='%2.1f', fontsize=10)\n",
      "_ = fig.colorbar(cs, **kcbar)"
     ],
     "language": "python",
     "metadata": {},
     "outputs": [],
     "prompt_number": null
    },
    {
     "cell_type": "code",
     "collapsed": false,
     "input": [
      "fname = 'woa09_salinity_0_annual.%s' % fmt\n",
      "fig.savefig(fname, **kfig)\n",
      "_ = os.system('convert -trim %s %s' % (fname, fname))"
     ],
     "language": "python",
     "metadata": {},
     "outputs": [],
     "prompt_number": null
    },
    {
     "cell_type": "code",
     "collapsed": false,
     "input": [
      "depth = 1000.0\n",
      "\n",
      "fig, ax = make_map(projection=ccrs.PlateCarree(central_longitude=-150))\n",
      "lon, lat, data = get_data('woa09_salinity.h5', 'salinity', depth)\n",
      "levels = np.arange(34.3, 35.75, 0.2)\n",
      "cs = ax.pcolormesh(lon, lat, data, cmap=cm.odv, **proj)\n",
      "cs.set_clim(34.3, 35.65)\n",
      "cc = ax.contour(lon, lat, data, levels=levels, **kw)\n",
      "ax.clabel(cc, inline=True, fmt='%2.1f', fontsize=10)\n",
      "_ = fig.colorbar(cs, **kcbar)"
     ],
     "language": "python",
     "metadata": {},
     "outputs": [],
     "prompt_number": null
    },
    {
     "cell_type": "code",
     "collapsed": false,
     "input": [
      "fname = 'woa09_salinity_1000_annual.%s' % fmt\n",
      "fig.savefig(fname, **kfig)\n",
      "_ = os.system('convert -trim %s %s' % (fname, fname))"
     ],
     "language": "python",
     "metadata": {},
     "outputs": [],
     "prompt_number": null
    },
    {
     "cell_type": "code",
     "collapsed": false,
     "input": [
      "depth = 4500.0\n",
      "\n",
      "fig, ax = make_map(projection=ccrs.PlateCarree(central_longitude=-150))\n",
      "lon, lat, data = get_data('woa09_salinity.h5', 'salinity', depth)\n",
      "levels = np.arange(34.4, 35, 0.2)\n",
      "cs = ax.pcolormesh(lon, lat, data, cmap=cm.odv, **proj)\n",
      "cs.set_clim(34.4, 35)\n",
      "cc = ax.contour(lon, lat, data, levels=levels, **kw)\n",
      "ax.clabel(cc, inline=True, fmt='%2.1f', fontsize=10)\n",
      "_ = fig.colorbar(cs, **kcbar)"
     ],
     "language": "python",
     "metadata": {},
     "outputs": [],
     "prompt_number": null
    },
    {
     "cell_type": "code",
     "collapsed": false,
     "input": [
      "fname = 'woa09_salinity_4500_annual.%s' % fmt\n",
      "fig.savefig(fname, **kfig)\n",
      "_ = os.system('convert -trim %s %s' % (fname, fname))"
     ],
     "language": "python",
     "metadata": {},
     "outputs": [],
     "prompt_number": null
    },
    {
     "cell_type": "markdown",
     "metadata": {},
     "source": [
      "### Annual Temperature Climatology (surface and 1000 m)."
     ]
    },
    {
     "cell_type": "code",
     "collapsed": false,
     "input": [
      "depth = 0.0\n",
      "\n",
      "fig, ax = make_map(projection=ccrs.PlateCarree(central_longitude=-150))\n",
      "lon, lat, data = get_data('woa09_temperature.h5', 'temperature', depth)\n",
      "levels = np.arange(-1, 30, 1.5)\n",
      "cs = ax.pcolormesh(lon, lat, data, cmap=cm.avhrr, **proj)\n",
      "cs.set_clim(-1, 29)\n",
      "cc = ax.contour(lon, lat, data, levels=levels, **kw)\n",
      "ax.clabel(cc, inline=True, fmt='%2.1f', fontsize=10)\n",
      "_ = fig.colorbar(cs, **kcbar)"
     ],
     "language": "python",
     "metadata": {},
     "outputs": [],
     "prompt_number": null
    },
    {
     "cell_type": "code",
     "collapsed": false,
     "input": [
      "fname = 'woa09_temperature_0_annual.%s' % fmt\n",
      "fig.savefig(fname, **kfig)\n",
      "_ = os.system('convert -trim %s %s' % (fname, fname))"
     ],
     "language": "python",
     "metadata": {},
     "outputs": [],
     "prompt_number": null
    },
    {
     "cell_type": "code",
     "collapsed": false,
     "input": [
      "depth = 1000.0\n",
      "\n",
      "fig, ax = make_map(projection=ccrs.PlateCarree(central_longitude=-150))\n",
      "lon, lat, data = get_data('woa09_temperature.h5', 'temperature', depth)\n",
      "levels = np.arange(-2, 15, 0.5)\n",
      "cs = ax.pcolormesh(lon, lat, data, cmap=cm.avhrr, **proj)\n",
      "cs.set_clim(-2, 15)\n",
      "cc = ax.contour(lon, lat, data, levels=levels, **kw)\n",
      "ax.clabel(cc, inline=True, fmt='%2.1f', fontsize=10)\n",
      "_ = fig.colorbar(cs, **kcbar)"
     ],
     "language": "python",
     "metadata": {},
     "outputs": [],
     "prompt_number": null
    },
    {
     "cell_type": "code",
     "collapsed": false,
     "input": [
      "fname = 'woa09_temperature_1000_annual.%s' % fmt\n",
      "fig.savefig(fname, **kfig)\n",
      "_ = os.system('convert -trim %s %s' % (fname, fname))"
     ],
     "language": "python",
     "metadata": {},
     "outputs": [],
     "prompt_number": null
    },
    {
     "cell_type": "code",
     "collapsed": false,
     "input": [
      "depth = 4500.0\n",
      "\n",
      "fig, ax = make_map(projection=ccrs.PlateCarree(central_longitude=-150))\n",
      "lon, lat, data = get_data('woa09_temperature.h5', 'temperature', depth)\n",
      "levels = np.arange(-0.6, 10, 0.2)\n",
      "cs = ax.pcolormesh(lon, lat, data, cmap=cm.avhrr, **proj)\n",
      "cs.set_clim(-0.6, 10)\n",
      "cc = ax.contour(lon, lat, data, levels=levels, **kw)\n",
      "ax.clabel(cc, inline=True, fmt='%2.1f', fontsize=10)\n",
      "_ = fig.colorbar(cs, **kcbar)"
     ],
     "language": "python",
     "metadata": {},
     "outputs": [],
     "prompt_number": null
    },
    {
     "cell_type": "code",
     "collapsed": false,
     "input": [
      "fname = 'woa09_temperature_4500_annual.%s' % fmt\n",
      "fig.savefig(fname, **kfig)\n",
      "_ = os.system('convert -trim %s %s' % (fname, fname))"
     ],
     "language": "python",
     "metadata": {},
     "outputs": [],
     "prompt_number": null
    },
    {
     "cell_type": "code",
     "collapsed": false,
     "input": [
      "HTML(html)"
     ],
     "language": "python",
     "metadata": {},
     "outputs": [],
     "prompt_number": null
    }
   ],
   "metadata": {}
  }
 ]
}